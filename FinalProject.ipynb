{
 "cells": [
  {
   "cell_type": "markdown",
   "metadata": {},
   "source": [
    "# COGS 108 - Final Project "
   ]
  },
  {
   "cell_type": "markdown",
   "metadata": {},
   "source": [
    "# Overview"
   ]
  },
  {
   "cell_type": "markdown",
   "metadata": {},
   "source": [
    "*Fill in your overview here*"
   ]
  },
  {
   "cell_type": "markdown",
   "metadata": {},
   "source": [
    "# Names / ID\n",
    "\n",
    "- Lan Wei       \n",
    "- Sean Race     \n",
    "- Weilun Yao    \n",
    "- Shine Paek     \n",
    "- Kyosuke Goto    "
   ]
  },
  {
   "cell_type": "markdown",
   "metadata": {},
   "source": [
    "# Group Members IDs\n",
    "\n",
    "- A########\n",
    "- A########\n",
    "- A########\n",
    "- A########"
   ]
  },
  {
   "cell_type": "markdown",
   "metadata": {},
   "source": [
    "# Research Question"
   ]
  },
  {
   "cell_type": "markdown",
   "metadata": {},
   "source": [
    "*Fill in your research question here*"
   ]
  },
  {
   "cell_type": "markdown",
   "metadata": {},
   "source": [
    "## Background and Prior Work"
   ]
  },
  {
   "cell_type": "markdown",
   "metadata": {},
   "source": [
    "*Fill in your background and prior work here* \n",
    "\n",
    "References (include links):\n",
    "- 1)\n",
    "- 2)"
   ]
  },
  {
   "cell_type": "markdown",
   "metadata": {},
   "source": [
    "# Hypothesis\n"
   ]
  },
  {
   "cell_type": "markdown",
   "metadata": {},
   "source": [
    "*Fill in your hypotheses here*"
   ]
  },
  {
   "cell_type": "markdown",
   "metadata": {},
   "source": [
    "# Dataset(s)"
   ]
  },
  {
   "cell_type": "markdown",
   "metadata": {},
   "source": [
    "*Fill in your dataset information here*\n",
    "\n",
    "(Copy this information for each dataset)\n",
    "- Dataset Name:\n",
    "- Link to the dataset:\n",
    "- Number of observations:\n",
    "\n",
    "1-2 sentences describing each dataset. \n",
    "\n",
    "If you plan to use multiple datasets, add 1-2 sentences about how you plan to combine these datasets."
   ]
  },
  {
   "cell_type": "markdown",
   "metadata": {},
   "source": [
    "# Setup"
   ]
  },
  {
   "cell_type": "markdown",
   "metadata": {},
   "source": [
    "What modules did we use?"
   ]
  },
  {
   "cell_type": "code",
   "execution_count": 1,
   "metadata": {},
   "outputs": [],
   "source": [
    "## YOUR CODE HERE\n",
    "import pandas as pd\n",
    "import numpy as np\n",
    "import seaborn as sns\n",
    "import matplotlib.pyplot as plt\n",
    "\n",
    "from zipfile import ZipFile\n",
    "\n",
    "# ADD MORE AS NEEDED"
   ]
  },
  {
   "cell_type": "markdown",
   "metadata": {},
   "source": [
    "# Data Cleaning"
   ]
  },
  {
   "cell_type": "markdown",
   "metadata": {},
   "source": [
    "Describe your data cleaning steps here.\n",
    "\n",
    "TODO: What are we doing\n"
   ]
  },
  {
   "cell_type": "code",
   "execution_count": 2,
   "metadata": {},
   "outputs": [],
   "source": [
    "## YOUR CODE HERE\n",
    "## FEEL FREE TO ADD MULTIPLE CELLS PER SECTION"
   ]
  },
  {
   "cell_type": "markdown",
   "metadata": {},
   "source": [
    "### KAGGLE Data"
   ]
  },
  {
   "cell_type": "code",
   "execution_count": 3,
   "metadata": {},
   "outputs": [],
   "source": [
    "# Read in Kaggle Data (TODO: RENAME 'master.csv')\n",
    "#kdf = pd.read_csv('master.csv')\n",
    "\n",
    "# Drop suicide_no, country-year, gdp_for_year($)\n",
    "#kdf.drop(['suicides_no','population','country-year',' gdp_for_year ($) '], axis=1,inplace=True)\n",
    "\n",
    "# Restrict Data to United States\n",
    "#kdf = kdf[kdf['country'] == 'United States']\n",
    "\n",
    "# Only 'HDI for year' contains missing values\n",
    "# srk.isnull().any()\n",
    "\n",
    "#kdf.head(n=15)"
   ]
  },
  {
   "cell_type": "markdown",
   "metadata": {},
   "source": [
    "### CDC DATA (https://www.cdc.gov/nchs/data/dvs/Record_Layout_2013.pdf)"
   ]
  },
  {
   "cell_type": "code",
   "execution_count": 4,
   "metadata": {},
   "outputs": [],
   "source": [
    "## 2013 Data (EXTRACTS ZIP. SLOW.)\n",
    "\n",
    "# cdcZip   = 'mort2013us.zip'\n",
    "datafile = 'VS13MORT.DUSMCPUB'\n",
    "\n",
    "# with ZipFile(cdcZip, 'r') as z:\n",
    "#     z.extract(datafile)\n",
    "\n",
    "#! head -5 $datafile"
   ]
  },
  {
   "cell_type": "code",
   "execution_count": 5,
   "metadata": {},
   "outputs": [
    {
     "data": {
      "text/html": [
       "<div>\n",
       "<style scoped>\n",
       "    .dataframe tbody tr th:only-of-type {\n",
       "        vertical-align: middle;\n",
       "    }\n",
       "\n",
       "    .dataframe tbody tr th {\n",
       "        vertical-align: top;\n",
       "    }\n",
       "\n",
       "    .dataframe thead th {\n",
       "        text-align: right;\n",
       "    }\n",
       "</style>\n",
       "<table border=\"1\" class=\"dataframe\">\n",
       "  <thead>\n",
       "    <tr style=\"text-align: right;\">\n",
       "      <th></th>\n",
       "      <th>Data year</th>\n",
       "      <th>Manner of Death</th>\n",
       "      <th>Place of Death</th>\n",
       "      <th>Sex</th>\n",
       "      <th>Race</th>\n",
       "      <th>Education Reporting Flag</th>\n",
       "      <th>Education 1989 Revision</th>\n",
       "      <th>Education 2003 Revision</th>\n",
       "      <th>Age Recode 52</th>\n",
       "      <th>Age Recode 27</th>\n",
       "      <th>Age Recode 12</th>\n",
       "      <th>Hispanic origin</th>\n",
       "    </tr>\n",
       "  </thead>\n",
       "  <tbody>\n",
       "    <tr>\n",
       "      <th>0</th>\n",
       "      <td>2013</td>\n",
       "      <td>7</td>\n",
       "      <td>6</td>\n",
       "      <td>M</td>\n",
       "      <td>01</td>\n",
       "      <td>0</td>\n",
       "      <td>15</td>\n",
       "      <td></td>\n",
       "      <td>44</td>\n",
       "      <td>24</td>\n",
       "      <td>11</td>\n",
       "      <td>100</td>\n",
       "    </tr>\n",
       "    <tr>\n",
       "      <th>1</th>\n",
       "      <td>2013</td>\n",
       "      <td>7</td>\n",
       "      <td>6</td>\n",
       "      <td>F</td>\n",
       "      <td>01</td>\n",
       "      <td>0</td>\n",
       "      <td>12</td>\n",
       "      <td></td>\n",
       "      <td>42</td>\n",
       "      <td>22</td>\n",
       "      <td>10</td>\n",
       "      <td>100</td>\n",
       "    </tr>\n",
       "    <tr>\n",
       "      <th>2</th>\n",
       "      <td>2013</td>\n",
       "      <td>7</td>\n",
       "      <td>6</td>\n",
       "      <td>M</td>\n",
       "      <td>01</td>\n",
       "      <td>0</td>\n",
       "      <td>17</td>\n",
       "      <td></td>\n",
       "      <td>40</td>\n",
       "      <td>20</td>\n",
       "      <td>09</td>\n",
       "      <td>100</td>\n",
       "    </tr>\n",
       "    <tr>\n",
       "      <th>3</th>\n",
       "      <td>2013</td>\n",
       "      <td>7</td>\n",
       "      <td>1</td>\n",
       "      <td>M</td>\n",
       "      <td>03</td>\n",
       "      <td>0</td>\n",
       "      <td>99</td>\n",
       "      <td></td>\n",
       "      <td>41</td>\n",
       "      <td>21</td>\n",
       "      <td>10</td>\n",
       "      <td>100</td>\n",
       "    </tr>\n",
       "    <tr>\n",
       "      <th>4</th>\n",
       "      <td>2013</td>\n",
       "      <td>7</td>\n",
       "      <td>6</td>\n",
       "      <td>F</td>\n",
       "      <td>01</td>\n",
       "      <td>0</td>\n",
       "      <td>12</td>\n",
       "      <td></td>\n",
       "      <td>42</td>\n",
       "      <td>22</td>\n",
       "      <td>10</td>\n",
       "      <td>100</td>\n",
       "    </tr>\n",
       "  </tbody>\n",
       "</table>\n",
       "</div>"
      ],
      "text/plain": [
       "  Data year Manner of Death Place of Death Sex Race Education Reporting Flag  \\\n",
       "0      2013               7              6   M   01                        0   \n",
       "1      2013               7              6   F   01                        0   \n",
       "2      2013               7              6   M   01                        0   \n",
       "3      2013               7              1   M   03                        0   \n",
       "4      2013               7              6   F   01                        0   \n",
       "\n",
       "  Education 1989 Revision Education 2003 Revision Age Recode 52 Age Recode 27  \\\n",
       "0                      15                                    44            24   \n",
       "1                      12                                    42            22   \n",
       "2                      17                                    40            20   \n",
       "3                      99                                    41            21   \n",
       "4                      12                                    42            22   \n",
       "\n",
       "  Age Recode 12 Hispanic origin  \n",
       "0            11             100  \n",
       "1            10             100  \n",
       "2            09             100  \n",
       "3            10             100  \n",
       "4            10             100  "
      ]
     },
     "execution_count": 5,
     "metadata": {},
     "output_type": "execute_result"
    }
   ],
   "source": [
    "### Watch out for Memory Usage\n",
    "\n",
    "import csv\n",
    "import io\n",
    "\n",
    "# Set order of Columns\n",
    "fields = ['Data year',\n",
    "          'Manner of Death',\n",
    "          'Place of Death',\n",
    "          'Sex',\n",
    "          'Race',\n",
    "          'Education Reporting Flag',\n",
    "          'Education 1989 Revision',\n",
    "          'Education 2003 Revision',\n",
    "          'Age Recode 52',\n",
    "          'Age Recode 27',\n",
    "          'Age Recode 12',\n",
    "          'Hispanic origin'\n",
    "          ]\n",
    "\n",
    "out = io.StringIO()\n",
    "cw = csv.DictWriter(out,fields)\n",
    "cw.writeheader()\n",
    "\n",
    "# Parse each line of text file for information, save to CSV\n",
    "# Index found in CDC DOC. Note (actual_index-1)\n",
    "with open(datafile,'r') as inFile:\n",
    "    for line in inFile:\n",
    "        row = {\n",
    "            'Education 1989 Revision' :line[60:62],\n",
    "            'Education 2003 Revision' :line[62],\n",
    "            'Education Reporting Flag':line[63],\n",
    "            'Sex'                     :line[68],\n",
    "            'Age Recode 52'           :line[74:76],\n",
    "            'Age Recode 27'           :line[76:78],\n",
    "            'Age Recode 12'           :line[78:80],\n",
    "            'Place of Death'          :line[82],\n",
    "            'Data year'               :line[101:105],\n",
    "            'Manner of Death'         :line[106],\n",
    "            'Race'                    :line[444:446],\n",
    "            'Hispanic origin'         :line[483:486]            \n",
    "          }\n",
    "        cw.writerow(row)\n",
    "    \n",
    "out.seek(0)\n",
    "\n",
    "# Read tempolary CSV\n",
    "cdf = pd.read_csv(out, dtype=object)\n",
    "cdf.head()"
   ]
  },
  {
   "cell_type": "code",
   "execution_count": 6,
   "metadata": {},
   "outputs": [
    {
     "data": {
      "text/html": [
       "<div>\n",
       "<style scoped>\n",
       "    .dataframe tbody tr th:only-of-type {\n",
       "        vertical-align: middle;\n",
       "    }\n",
       "\n",
       "    .dataframe tbody tr th {\n",
       "        vertical-align: top;\n",
       "    }\n",
       "\n",
       "    .dataframe thead th {\n",
       "        text-align: right;\n",
       "    }\n",
       "</style>\n",
       "<table border=\"1\" class=\"dataframe\">\n",
       "  <thead>\n",
       "    <tr style=\"text-align: right;\">\n",
       "      <th></th>\n",
       "      <th>Data year</th>\n",
       "      <th>Manner of Death</th>\n",
       "      <th>Place of Death</th>\n",
       "      <th>Sex</th>\n",
       "      <th>Race</th>\n",
       "      <th>Education Reporting Flag</th>\n",
       "      <th>Education 1989 Revision</th>\n",
       "      <th>Education 2003 Revision</th>\n",
       "      <th>Age Recode 52</th>\n",
       "      <th>Age Recode 27</th>\n",
       "      <th>Age Recode 12</th>\n",
       "      <th>Hispanic origin</th>\n",
       "    </tr>\n",
       "  </thead>\n",
       "  <tbody>\n",
       "    <tr>\n",
       "      <th>0</th>\n",
       "      <td>2013</td>\n",
       "      <td>7</td>\n",
       "      <td>6</td>\n",
       "      <td>M</td>\n",
       "      <td>01</td>\n",
       "      <td>0</td>\n",
       "      <td>15</td>\n",
       "      <td>NaN</td>\n",
       "      <td>44</td>\n",
       "      <td>24</td>\n",
       "      <td>11</td>\n",
       "      <td>100</td>\n",
       "    </tr>\n",
       "    <tr>\n",
       "      <th>1</th>\n",
       "      <td>2013</td>\n",
       "      <td>7</td>\n",
       "      <td>6</td>\n",
       "      <td>F</td>\n",
       "      <td>01</td>\n",
       "      <td>0</td>\n",
       "      <td>12</td>\n",
       "      <td>NaN</td>\n",
       "      <td>42</td>\n",
       "      <td>22</td>\n",
       "      <td>10</td>\n",
       "      <td>100</td>\n",
       "    </tr>\n",
       "    <tr>\n",
       "      <th>2</th>\n",
       "      <td>2013</td>\n",
       "      <td>7</td>\n",
       "      <td>6</td>\n",
       "      <td>M</td>\n",
       "      <td>01</td>\n",
       "      <td>0</td>\n",
       "      <td>17</td>\n",
       "      <td>NaN</td>\n",
       "      <td>40</td>\n",
       "      <td>20</td>\n",
       "      <td>09</td>\n",
       "      <td>100</td>\n",
       "    </tr>\n",
       "    <tr>\n",
       "      <th>3</th>\n",
       "      <td>2013</td>\n",
       "      <td>7</td>\n",
       "      <td>1</td>\n",
       "      <td>M</td>\n",
       "      <td>03</td>\n",
       "      <td>0</td>\n",
       "      <td>99</td>\n",
       "      <td>NaN</td>\n",
       "      <td>41</td>\n",
       "      <td>21</td>\n",
       "      <td>10</td>\n",
       "      <td>100</td>\n",
       "    </tr>\n",
       "    <tr>\n",
       "      <th>4</th>\n",
       "      <td>2013</td>\n",
       "      <td>7</td>\n",
       "      <td>6</td>\n",
       "      <td>F</td>\n",
       "      <td>01</td>\n",
       "      <td>0</td>\n",
       "      <td>12</td>\n",
       "      <td>NaN</td>\n",
       "      <td>42</td>\n",
       "      <td>22</td>\n",
       "      <td>10</td>\n",
       "      <td>100</td>\n",
       "    </tr>\n",
       "  </tbody>\n",
       "</table>\n",
       "</div>"
      ],
      "text/plain": [
       "  Data year Manner of Death Place of Death Sex Race Education Reporting Flag  \\\n",
       "0      2013               7              6   M   01                        0   \n",
       "1      2013               7              6   F   01                        0   \n",
       "2      2013               7              6   M   01                        0   \n",
       "3      2013               7              1   M   03                        0   \n",
       "4      2013               7              6   F   01                        0   \n",
       "\n",
       "  Education 1989 Revision Education 2003 Revision Age Recode 52 Age Recode 27  \\\n",
       "0                      15                     NaN            44            24   \n",
       "1                      12                     NaN            42            22   \n",
       "2                      17                     NaN            40            20   \n",
       "3                      99                     NaN            41            21   \n",
       "4                      12                     NaN            42            22   \n",
       "\n",
       "  Age Recode 12 Hispanic origin  \n",
       "0            11             100  \n",
       "1            10             100  \n",
       "2            09             100  \n",
       "3            10             100  \n",
       "4            10             100  "
      ]
     },
     "execution_count": 6,
     "metadata": {},
     "output_type": "execute_result"
    }
   ],
   "source": [
    "# Turn empty value into NaN\n",
    "cdf.replace(to_replace=r'^\\s+$', value=np.nan, regex=True, inplace=True)\n",
    "\n",
    "cdf.head()"
   ]
  },
  {
   "cell_type": "code",
   "execution_count": 7,
   "metadata": {},
   "outputs": [
    {
     "data": {
      "text/plain": [
       "(2601452, 12)"
      ]
     },
     "metadata": {},
     "output_type": "display_data"
    },
    {
     "data": {
      "text/plain": [
       "Data year                   object\n",
       "Manner of Death             object\n",
       "Place of Death              object\n",
       "Sex                         object\n",
       "Race                        object\n",
       "Education Reporting Flag    object\n",
       "Education 1989 Revision     object\n",
       "Education 2003 Revision     object\n",
       "Age Recode 52               object\n",
       "Age Recode 27               object\n",
       "Age Recode 12               object\n",
       "Hispanic origin             object\n",
       "dtype: object"
      ]
     },
     "metadata": {},
     "output_type": "display_data"
    }
   ],
   "source": [
    "# Size of Data\n",
    "display(cdf.shape)\n",
    "\n",
    "# Column Data Type\n",
    "display(cdf.dtypes)\n"
   ]
  },
  {
   "cell_type": "code",
   "execution_count": 8,
   "metadata": {},
   "outputs": [
    {
     "data": {
      "text/plain": [
       "Data year                         0\n",
       "Manner of Death              430113\n",
       "Place of Death                    0\n",
       "Sex                               0\n",
       "Race                              0\n",
       "Education Reporting Flag          0\n",
       "Education 1989 Revision     2208160\n",
       "Education 2003 Revision      393292\n",
       "Age Recode 52                     0\n",
       "Age Recode 27                     0\n",
       "Age Recode 12                     0\n",
       "Hispanic origin                   0\n",
       "dtype: int64"
      ]
     },
     "execution_count": 8,
     "metadata": {},
     "output_type": "execute_result"
    }
   ],
   "source": [
    "# Missing Value per Column\n",
    "cdf.isnull().sum()"
   ]
  },
  {
   "cell_type": "code",
   "execution_count": 9,
   "metadata": {},
   "outputs": [
    {
     "data": {
      "text/html": [
       "<div>\n",
       "<style scoped>\n",
       "    .dataframe tbody tr th:only-of-type {\n",
       "        vertical-align: middle;\n",
       "    }\n",
       "\n",
       "    .dataframe tbody tr th {\n",
       "        vertical-align: top;\n",
       "    }\n",
       "\n",
       "    .dataframe thead th {\n",
       "        text-align: right;\n",
       "    }\n",
       "</style>\n",
       "<table border=\"1\" class=\"dataframe\">\n",
       "  <thead>\n",
       "    <tr style=\"text-align: right;\">\n",
       "      <th></th>\n",
       "      <th>Data year</th>\n",
       "      <th>Manner of Death</th>\n",
       "      <th>Place of Death</th>\n",
       "      <th>Sex</th>\n",
       "      <th>Race</th>\n",
       "      <th>Education 2003 Revision</th>\n",
       "      <th>Age Recode 52</th>\n",
       "      <th>Age Recode 27</th>\n",
       "      <th>Age Recode 12</th>\n",
       "      <th>Hispanic origin</th>\n",
       "    </tr>\n",
       "  </thead>\n",
       "  <tbody>\n",
       "    <tr>\n",
       "      <th>53204</th>\n",
       "      <td>2013</td>\n",
       "      <td>7</td>\n",
       "      <td>4</td>\n",
       "      <td>F</td>\n",
       "      <td>01</td>\n",
       "      <td>2</td>\n",
       "      <td>41</td>\n",
       "      <td>21</td>\n",
       "      <td>10</td>\n",
       "      <td>100</td>\n",
       "    </tr>\n",
       "    <tr>\n",
       "      <th>53205</th>\n",
       "      <td>2013</td>\n",
       "      <td>7</td>\n",
       "      <td>1</td>\n",
       "      <td>F</td>\n",
       "      <td>02</td>\n",
       "      <td>2</td>\n",
       "      <td>43</td>\n",
       "      <td>23</td>\n",
       "      <td>11</td>\n",
       "      <td>100</td>\n",
       "    </tr>\n",
       "    <tr>\n",
       "      <th>53206</th>\n",
       "      <td>2013</td>\n",
       "      <td>7</td>\n",
       "      <td>4</td>\n",
       "      <td>M</td>\n",
       "      <td>01</td>\n",
       "      <td>4</td>\n",
       "      <td>44</td>\n",
       "      <td>24</td>\n",
       "      <td>11</td>\n",
       "      <td>100</td>\n",
       "    </tr>\n",
       "    <tr>\n",
       "      <th>53207</th>\n",
       "      <td>2013</td>\n",
       "      <td>7</td>\n",
       "      <td>1</td>\n",
       "      <td>F</td>\n",
       "      <td>01</td>\n",
       "      <td>1</td>\n",
       "      <td>43</td>\n",
       "      <td>23</td>\n",
       "      <td>11</td>\n",
       "      <td>100</td>\n",
       "    </tr>\n",
       "    <tr>\n",
       "      <th>53208</th>\n",
       "      <td>2013</td>\n",
       "      <td>7</td>\n",
       "      <td>6</td>\n",
       "      <td>F</td>\n",
       "      <td>01</td>\n",
       "      <td>1</td>\n",
       "      <td>45</td>\n",
       "      <td>25</td>\n",
       "      <td>11</td>\n",
       "      <td>100</td>\n",
       "    </tr>\n",
       "  </tbody>\n",
       "</table>\n",
       "</div>"
      ],
      "text/plain": [
       "      Data year Manner of Death Place of Death Sex Race  \\\n",
       "53204      2013               7              4   F   01   \n",
       "53205      2013               7              1   F   02   \n",
       "53206      2013               7              4   M   01   \n",
       "53207      2013               7              1   F   01   \n",
       "53208      2013               7              6   F   01   \n",
       "\n",
       "      Education 2003 Revision Age Recode 52 Age Recode 27 Age Recode 12  \\\n",
       "53204                       2            41            21            10   \n",
       "53205                       2            43            23            11   \n",
       "53206                       4            44            24            11   \n",
       "53207                       1            43            23            11   \n",
       "53208                       1            45            25            11   \n",
       "\n",
       "      Hispanic origin  \n",
       "53204             100  \n",
       "53205             100  \n",
       "53206             100  \n",
       "53207             100  \n",
       "53208             100  "
      ]
     },
     "execution_count": 9,
     "metadata": {},
     "output_type": "execute_result"
    }
   ],
   "source": [
    "# Check for Missing Education Data\n",
    "no_edu = sum((cdf['Education 1989 Revision'].isnull()) & (cdf['Education 2003 Revision'].isnull()))\n",
    "assert no_edu == 0\n",
    "\n",
    "# Only keep row with 'Education 2003 Revision' (for now)\n",
    "cdf = cdf[(cdf['Education Reporting Flag'] == '1')]\n",
    "\n",
    "# Drop\n",
    "cdf.drop(labels=['Education 1989 Revision', 'Education Reporting Flag'], axis=1, inplace=True)\n",
    "\n",
    "cdf.head()"
   ]
  },
  {
   "cell_type": "code",
   "execution_count": 10,
   "metadata": {},
   "outputs": [
    {
     "data": {
      "text/html": [
       "<div>\n",
       "<style scoped>\n",
       "    .dataframe tbody tr th:only-of-type {\n",
       "        vertical-align: middle;\n",
       "    }\n",
       "\n",
       "    .dataframe tbody tr th {\n",
       "        vertical-align: top;\n",
       "    }\n",
       "\n",
       "    .dataframe thead th {\n",
       "        text-align: right;\n",
       "    }\n",
       "</style>\n",
       "<table border=\"1\" class=\"dataframe\">\n",
       "  <thead>\n",
       "    <tr style=\"text-align: right;\">\n",
       "      <th></th>\n",
       "      <th>Data year</th>\n",
       "      <th>Manner of Death</th>\n",
       "      <th>Place of Death</th>\n",
       "      <th>Sex</th>\n",
       "      <th>Race</th>\n",
       "      <th>Education 2003 Revision</th>\n",
       "      <th>Age Recode 52</th>\n",
       "      <th>Hispanic origin</th>\n",
       "    </tr>\n",
       "  </thead>\n",
       "  <tbody>\n",
       "    <tr>\n",
       "      <th>53204</th>\n",
       "      <td>2013</td>\n",
       "      <td>7</td>\n",
       "      <td>4</td>\n",
       "      <td>F</td>\n",
       "      <td>01</td>\n",
       "      <td>2</td>\n",
       "      <td>41</td>\n",
       "      <td>100</td>\n",
       "    </tr>\n",
       "    <tr>\n",
       "      <th>53205</th>\n",
       "      <td>2013</td>\n",
       "      <td>7</td>\n",
       "      <td>1</td>\n",
       "      <td>F</td>\n",
       "      <td>02</td>\n",
       "      <td>2</td>\n",
       "      <td>43</td>\n",
       "      <td>100</td>\n",
       "    </tr>\n",
       "    <tr>\n",
       "      <th>53206</th>\n",
       "      <td>2013</td>\n",
       "      <td>7</td>\n",
       "      <td>4</td>\n",
       "      <td>M</td>\n",
       "      <td>01</td>\n",
       "      <td>4</td>\n",
       "      <td>44</td>\n",
       "      <td>100</td>\n",
       "    </tr>\n",
       "    <tr>\n",
       "      <th>53207</th>\n",
       "      <td>2013</td>\n",
       "      <td>7</td>\n",
       "      <td>1</td>\n",
       "      <td>F</td>\n",
       "      <td>01</td>\n",
       "      <td>1</td>\n",
       "      <td>43</td>\n",
       "      <td>100</td>\n",
       "    </tr>\n",
       "    <tr>\n",
       "      <th>53208</th>\n",
       "      <td>2013</td>\n",
       "      <td>7</td>\n",
       "      <td>6</td>\n",
       "      <td>F</td>\n",
       "      <td>01</td>\n",
       "      <td>1</td>\n",
       "      <td>45</td>\n",
       "      <td>100</td>\n",
       "    </tr>\n",
       "  </tbody>\n",
       "</table>\n",
       "</div>"
      ],
      "text/plain": [
       "      Data year Manner of Death Place of Death Sex Race  \\\n",
       "53204      2013               7              4   F   01   \n",
       "53205      2013               7              1   F   02   \n",
       "53206      2013               7              4   M   01   \n",
       "53207      2013               7              1   F   01   \n",
       "53208      2013               7              6   F   01   \n",
       "\n",
       "      Education 2003 Revision Age Recode 52 Hispanic origin  \n",
       "53204                       2            41             100  \n",
       "53205                       2            43             100  \n",
       "53206                       4            44             100  \n",
       "53207                       1            43             100  \n",
       "53208                       1            45             100  "
      ]
     },
     "execution_count": 10,
     "metadata": {},
     "output_type": "execute_result"
    }
   ],
   "source": [
    "# No missing Age Data so we will use 'Age Recode 52'\n",
    "#no_age = sum((cdf['Age Recode 52'] == '52') & (cdf['Age Recode 27'] == '27') & (cdf['Age Recode 12'] == '12'))\n",
    "#no_age_52 = sum(cdf['Age Recode 52'] == '52')\n",
    "#no_age_27 = sum(cdf['Age Recode 27'] == '27')\n",
    "#no_age_12 = sum(cdf['Age Recode 12'] == '12')\n",
    "#assert no_age == no_age_52 == no_age_27 == no_age_12\n",
    "\n",
    "# Drop 'Age Recode 27' and 'Age Recode 12'\n",
    "cdf.drop(labels=['Age Recode 27', 'Age Recode 12'], axis=1, inplace=True)\n",
    "\n",
    "# Drop Age below '5-9 years old' (01~26)\n",
    "age_codes = [ str(i).zfill(2) for i in range(1,27) ]\n",
    "cdf = cdf[~cdf['Age Recode 52'].isin(age_codes)]\n",
    "\n",
    "cdf.head()"
   ]
  },
  {
   "cell_type": "code",
   "execution_count": 11,
   "metadata": {},
   "outputs": [
    {
     "data": {
      "text/html": [
       "<div>\n",
       "<style scoped>\n",
       "    .dataframe tbody tr th:only-of-type {\n",
       "        vertical-align: middle;\n",
       "    }\n",
       "\n",
       "    .dataframe tbody tr th {\n",
       "        vertical-align: top;\n",
       "    }\n",
       "\n",
       "    .dataframe thead th {\n",
       "        text-align: right;\n",
       "    }\n",
       "</style>\n",
       "<table border=\"1\" class=\"dataframe\">\n",
       "  <thead>\n",
       "    <tr style=\"text-align: right;\">\n",
       "      <th></th>\n",
       "      <th>Data year</th>\n",
       "      <th>Manner of Death</th>\n",
       "      <th>Place of Death</th>\n",
       "      <th>Sex</th>\n",
       "      <th>Race</th>\n",
       "      <th>Education</th>\n",
       "      <th>Age</th>\n",
       "      <th>Hispanic origin</th>\n",
       "    </tr>\n",
       "  </thead>\n",
       "  <tbody>\n",
       "    <tr>\n",
       "      <th>53204</th>\n",
       "      <td>2013</td>\n",
       "      <td>7</td>\n",
       "      <td>4</td>\n",
       "      <td>F</td>\n",
       "      <td>01</td>\n",
       "      <td>2</td>\n",
       "      <td>41</td>\n",
       "      <td>100</td>\n",
       "    </tr>\n",
       "    <tr>\n",
       "      <th>53205</th>\n",
       "      <td>2013</td>\n",
       "      <td>7</td>\n",
       "      <td>1</td>\n",
       "      <td>F</td>\n",
       "      <td>02</td>\n",
       "      <td>2</td>\n",
       "      <td>43</td>\n",
       "      <td>100</td>\n",
       "    </tr>\n",
       "    <tr>\n",
       "      <th>53206</th>\n",
       "      <td>2013</td>\n",
       "      <td>7</td>\n",
       "      <td>4</td>\n",
       "      <td>M</td>\n",
       "      <td>01</td>\n",
       "      <td>4</td>\n",
       "      <td>44</td>\n",
       "      <td>100</td>\n",
       "    </tr>\n",
       "    <tr>\n",
       "      <th>53207</th>\n",
       "      <td>2013</td>\n",
       "      <td>7</td>\n",
       "      <td>1</td>\n",
       "      <td>F</td>\n",
       "      <td>01</td>\n",
       "      <td>1</td>\n",
       "      <td>43</td>\n",
       "      <td>100</td>\n",
       "    </tr>\n",
       "    <tr>\n",
       "      <th>53208</th>\n",
       "      <td>2013</td>\n",
       "      <td>7</td>\n",
       "      <td>6</td>\n",
       "      <td>F</td>\n",
       "      <td>01</td>\n",
       "      <td>1</td>\n",
       "      <td>45</td>\n",
       "      <td>100</td>\n",
       "    </tr>\n",
       "  </tbody>\n",
       "</table>\n",
       "</div>"
      ],
      "text/plain": [
       "      Data year Manner of Death Place of Death Sex Race Education Age  \\\n",
       "53204      2013               7              4   F   01         2  41   \n",
       "53205      2013               7              1   F   02         2  43   \n",
       "53206      2013               7              4   M   01         4  44   \n",
       "53207      2013               7              1   F   01         1  43   \n",
       "53208      2013               7              6   F   01         1  45   \n",
       "\n",
       "      Hispanic origin  \n",
       "53204             100  \n",
       "53205             100  \n",
       "53206             100  \n",
       "53207             100  \n",
       "53208             100  "
      ]
     },
     "execution_count": 11,
     "metadata": {},
     "output_type": "execute_result"
    }
   ],
   "source": [
    "# Rename Columns\n",
    "cdf.rename({'Education 2003 Revision':'Education', 'Age Recode 52':'Age'}, axis=1, inplace=True)\n",
    "cdf.head()"
   ]
  },
  {
   "cell_type": "code",
   "execution_count": 12,
   "metadata": {},
   "outputs": [],
   "source": [
    "# (OPTIONAL) Map KEY to Actual Meaning (DEBUG)\n",
    "# Comment multiple using CTRL+/ or CMD+/\n",
    "\n",
    "cdf['Manner of Death'] = cdf['Manner of Death'].map({\n",
    "                         '1': 'Accident',\n",
    "                         '2': 'Suicide',\n",
    "                         '3': 'Homicide',\n",
    "                         '4': 'Pending Investigation',\n",
    "                         '5': 'Could not determine',\n",
    "                         '6': 'Self-Inflicted',\n",
    "                         '7': 'Natural'\n",
    "                        })\n",
    "\n",
    "cdf['Education'] = cdf['Education'].map({\n",
    "                         '1': '8th grade or less',\n",
    "                         '2': '9-12th grade, no diploma',\n",
    "                         '3': 'high school graduate or GED completed',\n",
    "                         '4': 'some college credit, but no degree',\n",
    "                         '5': 'Associate degree',\n",
    "                         '6': \"Bachelor's degree\",\n",
    "                         '7': \"Master's degree\",\n",
    "                         '8': 'Doctorate or Professional degree',\n",
    "                         '9': 'Unknown'\n",
    "                        })\n",
    "\n",
    "cdf['Age'] = cdf['Age'].map({\n",
    "                        '01':'Under 1 hour (includes not stated hours and minutes)',\n",
    "                        '02':'1 - 23 hours',\n",
    "                        '03':'1 day (includes not stated days)',\n",
    "                        '04':'2 days',\n",
    "                        '05':'3 days',\n",
    "                        '06':'4 days',\n",
    "                        '07':'5 days',\n",
    "                        '08':'6 days',\n",
    "                        '09':'7 - 13 days (includes not stated weeks)',\n",
    "                        '10':'14 - 20 days',\n",
    "                        '11':'21 - 27 days',\n",
    "                        '12':'1 month (includes not stated months)',\n",
    "                        '13':'2 months',\n",
    "                        '14':'3 months',\n",
    "                        '15':'4 months',\n",
    "                        '16':'5 months',\n",
    "                        '17':'6 months',\n",
    "                        '18':'7 months',\n",
    "                        '19':'8 months',\n",
    "                        '20':'9 months',\n",
    "                        '21':'10 months',\n",
    "                        '22':'11 months',\n",
    "                        '23':'1 year',\n",
    "                        '24':'2 years',\n",
    "                        '25':'3 years',\n",
    "                        '26':'4 years',\n",
    "                        '27':'5 - 9 years',\n",
    "                        '28':'10 - 14 years',\n",
    "                        '29':'15 - 19 years',\n",
    "                        '30':'20 - 24 years',\n",
    "                        '31':'25 - 29 years',\n",
    "                        '32':'30 - 34 years',\n",
    "                        '33':'35 - 39 years',\n",
    "                        '34':'40 - 44 years',\n",
    "                        '35':'45 - 49 years',\n",
    "                        '36':'50 - 54 years',\n",
    "                        '37':'55 - 59 years',\n",
    "                        '38':'60 - 64 years',\n",
    "                        '39':'65 - 69 years',\n",
    "                        '40':'70 - 74 years',\n",
    "                        '41':'75 - 79 years',\n",
    "                        '42':'80 - 84 years',\n",
    "                        '43':'85 - 89 years',\n",
    "                        '44':'90 - 94 years',\n",
    "                        '45':'95 - 99 years',\n",
    "                        '46':'100 - 104 years',\n",
    "                        '47':'105 - 109 years',\n",
    "                        '48':'110 - 114 years',\n",
    "                        '49':'115 - 119 years',\n",
    "                        '50':'120 - 124 years',\n",
    "                        '51':'125 years and over',\n",
    "                        '52':'Age not stated'\n",
    "                        })\n",
    "\n",
    "cdf['Race'] = cdf['Race'].map({\n",
    "                        '00':'Other races',\n",
    "                        '01':'White',\n",
    "                        '02':'Black',\n",
    "                        '03':'American Indian (Includes Aleuts and Eskimos)',\n",
    "                        '04':'Chinese',\n",
    "                        '05':'Japanese',\n",
    "                        '06':'Hawaiian (includes Part-Hawaiian)',\n",
    "                        '07':'Filipino',\n",
    "                        '08':'Other Asian or Pacific Islander',\n",
    "                        '18':'Asian Indian',\n",
    "                        '28':'Korean',\n",
    "                        '38':'Samoan',\n",
    "                        '48':'Vietnamese',\n",
    "                        '58':'Guamanian',\n",
    "                        '68':'Other Asian or Pacific Islander',\n",
    "                        '78':'Combined other Asian or Pacific Islander'\n",
    "                        })\n"
   ]
  },
  {
   "cell_type": "code",
   "execution_count": 13,
   "metadata": {},
   "outputs": [],
   "source": [
    "# If cause of death is Suicide\n",
    "#cdf_suicide = cdf[cdf['Manner of Death'] == '2']\n",
    "cdf_suicide = cdf[cdf['Manner of Death'] == 'Suicide']\n",
    "\n",
    "# If cause of death is Natural\n",
    "#cdf_natural = cdf[cdf['Manner of Death'] == '7']\n",
    "cdf_natural = cdf[cdf['Manner of Death'] == 'Natural']"
   ]
  },
  {
   "cell_type": "code",
   "execution_count": 14,
   "metadata": {},
   "outputs": [
    {
     "data": {
      "text/plain": [
       "M    27392\n",
       "F     7781\n",
       "Name: Sex, dtype: int64"
      ]
     },
     "metadata": {},
     "output_type": "display_data"
    },
    {
     "data": {
      "text/plain": [
       "high school graduate or GED completed    14047\n",
       "some college credit, but no degree        6103\n",
       "Bachelor's degree                         4252\n",
       "9-12th grade, no diploma                  4037\n",
       "Associate degree                          2511\n",
       "8th grade or less                         1426\n",
       "Master's degree                           1360\n",
       "Unknown                                    727\n",
       "Doctorate or Professional degree           710\n",
       "Name: Education, dtype: int64"
      ]
     },
     "metadata": {},
     "output_type": "display_data"
    },
    {
     "data": {
      "text/plain": [
       "50 - 54 years      3926\n",
       "55 - 59 years      3546\n",
       "45 - 49 years      3394\n",
       "40 - 44 years      3021\n",
       "25 - 29 years      2759\n",
       "20 - 24 years      2659\n",
       "30 - 34 years      2632\n",
       "35 - 39 years      2580\n",
       "60 - 64 years      2552\n",
       "65 - 69 years      1834\n",
       "15 - 19 years      1491\n",
       "70 - 74 years      1431\n",
       "75 - 79 years      1036\n",
       "80 - 84 years       971\n",
       "85 - 89 years       662\n",
       "10 - 14 years       332\n",
       "90 - 94 years       281\n",
       "95 - 99 years        42\n",
       "Age not stated       12\n",
       "5 - 9 years          10\n",
       "100 - 104 years       2\n",
       "Name: Age, dtype: int64"
      ]
     },
     "metadata": {},
     "output_type": "display_data"
    },
    {
     "data": {
      "text/plain": [
       "White                                            31849\n",
       "Black                                             1938\n",
       "American Indian (Includes Aleuts and Eskimos)      427\n",
       "Chinese                                            169\n",
       "Other Asian or Pacific Islander                    155\n",
       "Korean                                             146\n",
       "Asian Indian                                       134\n",
       "Filipino                                           119\n",
       "Vietnamese                                          89\n",
       "Combined other Asian or Pacific Islander            60\n",
       "Japanese                                            59\n",
       "Samoan                                              11\n",
       "Hawaiian (includes Part-Hawaiian)                   10\n",
       "Guamanian                                            7\n",
       "Name: Race, dtype: int64"
      ]
     },
     "metadata": {},
     "output_type": "display_data"
    }
   ],
   "source": [
    "##### Suicide ##### (DEBUG)\n",
    "display(cdf_suicide['Sex'].value_counts())\n",
    "display(cdf_suicide['Education'].value_counts())\n",
    "display(cdf_suicide['Age'].value_counts())\n",
    "display(cdf_suicide['Race'].value_counts())"
   ]
  },
  {
   "cell_type": "code",
   "execution_count": 15,
   "metadata": {},
   "outputs": [
    {
     "data": {
      "text/plain": [
       "F    880054\n",
       "M    845934\n",
       "Name: Sex, dtype: int64"
      ]
     },
     "metadata": {},
     "output_type": "display_data"
    },
    {
     "data": {
      "text/plain": [
       "high school graduate or GED completed    756622\n",
       "8th grade or less                        199706\n",
       "some college credit, but no degree       198592\n",
       "9-12th grade, no diploma                 192411\n",
       "Bachelor's degree                        165572\n",
       "Associate degree                          97463\n",
       "Master's degree                           64463\n",
       "Doctorate or Professional degree          26102\n",
       "Unknown                                   25057\n",
       "Name: Education, dtype: int64"
      ]
     },
     "metadata": {},
     "output_type": "display_data"
    },
    {
     "data": {
      "text/plain": [
       "85 - 89 years         272286\n",
       "80 - 84 years         245308\n",
       "90 - 94 years         205226\n",
       "75 - 79 years         196767\n",
       "70 - 74 years         170274\n",
       "65 - 69 years         150697\n",
       "60 - 64 years         127631\n",
       "55 - 59 years         101398\n",
       "95 - 99 years          81204\n",
       "50 - 54 years          68681\n",
       "45 - 49 years          37558\n",
       "40 - 44 years          20660\n",
       "100 - 104 years        16008\n",
       "35 - 39 years          11199\n",
       "30 - 34 years           7639\n",
       "25 - 29 years           4825\n",
       "20 - 24 years           3130\n",
       "15 - 19 years           1793\n",
       "105 - 109 years         1339\n",
       "10 - 14 years           1129\n",
       "5 - 9 years             1112\n",
       "Age not stated            62\n",
       "110 - 114 years           61\n",
       "125 years and over         1\n",
       "Name: Age, dtype: int64"
      ]
     },
     "metadata": {},
     "output_type": "display_data"
    },
    {
     "data": {
      "text/plain": [
       "White                                            1503153\n",
       "Black                                             189827\n",
       "American Indian (Includes Aleuts and Eskimos)      10381\n",
       "Chinese                                             4914\n",
       "Asian Indian                                        4248\n",
       "Filipino                                            3383\n",
       "Other Asian or Pacific Islander                     2910\n",
       "Korean                                              2134\n",
       "Vietnamese                                          2119\n",
       "Japanese                                            1729\n",
       "Combined other Asian or Pacific Islander             648\n",
       "Hawaiian (includes Part-Hawaiian)                    203\n",
       "Guamanian                                            175\n",
       "Samoan                                               164\n",
       "Name: Race, dtype: int64"
      ]
     },
     "metadata": {},
     "output_type": "display_data"
    }
   ],
   "source": [
    "##### Natural ##### (DEBUG)\n",
    "display(cdf_natural['Sex'].value_counts())\n",
    "display(cdf_natural['Education'].value_counts())\n",
    "display(cdf_natural['Age'].value_counts())\n",
    "display(cdf_natural['Race'].value_counts())"
   ]
  },
  {
   "cell_type": "code",
   "execution_count": 16,
   "metadata": {},
   "outputs": [],
   "source": [
    "# Desriptive Analysis\n",
    "# Size, Missing, Shape, Central Tendency, Variability"
   ]
  },
  {
   "cell_type": "code",
   "execution_count": null,
   "metadata": {},
   "outputs": [],
   "source": []
  },
  {
   "cell_type": "code",
   "execution_count": null,
   "metadata": {},
   "outputs": [],
   "source": []
  },
  {
   "cell_type": "code",
   "execution_count": null,
   "metadata": {},
   "outputs": [],
   "source": []
  },
  {
   "cell_type": "markdown",
   "metadata": {},
   "source": [
    "# Data Analysis & Results"
   ]
  },
  {
   "cell_type": "markdown",
   "metadata": {},
   "source": [
    "Include cells that describe the steps in your data analysis."
   ]
  },
  {
   "cell_type": "code",
   "execution_count": 1,
   "metadata": {},
   "outputs": [],
   "source": [
    "## YOUR CODE HERE\n",
    "## FEEL FREE TO ADD MULTIPLE CELLS PER SECTION"
   ]
  },
  {
   "cell_type": "markdown",
   "metadata": {},
   "source": [
    "# Ethics & Privacy"
   ]
  },
  {
   "cell_type": "markdown",
   "metadata": {},
   "source": [
    "*Fill in your ethics & privacy discussion here*"
   ]
  },
  {
   "cell_type": "markdown",
   "metadata": {},
   "source": [
    "# Conclusion & Discussion"
   ]
  },
  {
   "cell_type": "markdown",
   "metadata": {},
   "source": [
    "*Fill in your discussion information here*"
   ]
  }
 ],
 "metadata": {
  "kernelspec": {
   "display_name": "Python 3",
   "language": "python",
   "name": "python3"
  },
  "language_info": {
   "codemirror_mode": {
    "name": "ipython",
    "version": 3
   },
   "file_extension": ".py",
   "mimetype": "text/x-python",
   "name": "python",
   "nbconvert_exporter": "python",
   "pygments_lexer": "ipython3",
   "version": "3.6.7"
  }
 },
 "nbformat": 4,
 "nbformat_minor": 2
}

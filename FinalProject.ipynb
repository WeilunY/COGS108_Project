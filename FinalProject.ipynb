{
 "cells": [
  {
   "cell_type": "markdown",
   "metadata": {},
   "source": [
    "# COGS 108 - Final Project "
   ]
  },
  {
   "cell_type": "markdown",
   "metadata": {},
   "source": [
    "# Overview"
   ]
  },
  {
   "cell_type": "markdown",
   "metadata": {},
   "source": [
    "*Fill in your overview here*"
   ]
  },
  {
   "cell_type": "markdown",
   "metadata": {},
   "source": [
    "# Names / ID\n",
    "\n",
    "- Lan Wei       \n",
    "- Sean Race     \n",
    "- Weilun Yao    \n",
    "- Shine Paek     \n",
    "- Kyosuke Goto    "
   ]
  },
  {
   "cell_type": "markdown",
   "metadata": {},
   "source": [
    "# Group Members IDs\n",
    "\n",
    "- A########\n",
    "- A########\n",
    "- A########\n",
    "- A########"
   ]
  },
  {
   "cell_type": "markdown",
   "metadata": {},
   "source": [
    "# Research Question"
   ]
  },
  {
   "cell_type": "markdown",
   "metadata": {},
   "source": [
    "*Fill in your research question here*"
   ]
  },
  {
   "cell_type": "markdown",
   "metadata": {},
   "source": [
    "## Background and Prior Work"
   ]
  },
  {
   "cell_type": "markdown",
   "metadata": {},
   "source": [
    "*Fill in your background and prior work here* \n",
    "\n",
    "References (include links):\n",
    "- 1)\n",
    "- 2)"
   ]
  },
  {
   "cell_type": "markdown",
   "metadata": {},
   "source": [
    "# Hypothesis\n"
   ]
  },
  {
   "cell_type": "markdown",
   "metadata": {},
   "source": [
    "*Fill in your hypotheses here*"
   ]
  },
  {
   "cell_type": "markdown",
   "metadata": {},
   "source": [
    "# Dataset(s)"
   ]
  },
  {
   "cell_type": "markdown",
   "metadata": {},
   "source": [
    "*Fill in your dataset information here*\n",
    "\n",
    "(Copy this information for each dataset)\n",
    "- Dataset Name:\n",
    "- Link to the dataset:\n",
    "- Number of observations:\n",
    "\n",
    "1-2 sentences describing each dataset. \n",
    "\n",
    "If you plan to use multiple datasets, add 1-2 sentences about how you plan to combine these datasets."
   ]
  },
  {
   "cell_type": "markdown",
   "metadata": {},
   "source": [
    "# Setup"
   ]
  },
  {
   "cell_type": "markdown",
   "metadata": {},
   "source": [
    "What modules did we use?"
   ]
  },
  {
   "cell_type": "code",
   "execution_count": 1,
   "metadata": {},
   "outputs": [],
   "source": [
    "## YOUR CODE HERE\n",
    "import pandas as pd\n",
    "import numpy as np\n",
    "import seaborn as sns\n",
    "import matplotlib.pyplot as plt\n",
    "\n",
    "from zipfile import ZipFile\n",
    "\n",
    "# ADD MORE AS NEEDED"
   ]
  },
  {
   "cell_type": "markdown",
   "metadata": {},
   "source": [
    "# Data Cleaning"
   ]
  },
  {
   "cell_type": "markdown",
   "metadata": {},
   "source": [
    "Describe your data cleaning steps here.\n",
    "\n",
    "TODO: What are we doing\n"
   ]
  },
  {
   "cell_type": "code",
   "execution_count": 2,
   "metadata": {},
   "outputs": [],
   "source": [
    "## YOUR CODE HERE\n",
    "## FEEL FREE TO ADD MULTIPLE CELLS PER SECTION"
   ]
  },
  {
   "cell_type": "markdown",
   "metadata": {},
   "source": [
    "### CDC DATA (https://www.cdc.gov/nchs/data/dvs/Record_Layout_2013.pdf)"
   ]
  },
  {
   "cell_type": "code",
   "execution_count": 3,
   "metadata": {},
   "outputs": [],
   "source": [
    "## 2013 Data (EXTRACTS ZIP. SLOW.)\n",
    "\n",
    "# cdcZip   = 'mort2013us.zip'\n",
    "datafile = 'VS13MORT.DUSMCPUB'\n",
    "\n",
    "# with ZipFile(cdcZip, 'r') as z:\n",
    "#     z.extract(datafile)\n",
    "\n",
    "#! head -5 $datafile"
   ]
  },
  {
   "cell_type": "code",
   "execution_count": 4,
   "metadata": {},
   "outputs": [],
   "source": [
    "import csv\n",
    "import io\n",
    "\n",
    "# Set order of Columns\n",
    "fields = ['Data year',\n",
    "          'Manner of Death',\n",
    "          'Place of Death',\n",
    "          'Sex',\n",
    "          'Race',\n",
    "          'Education Reporting Flag',\n",
    "          'Education 1989 Revision',\n",
    "          'Education 2003 Revision',\n",
    "          'Age Recode 52',\n",
    "          'Age Recode 27',\n",
    "          'Age Recode 12',\n",
    "          'Hispanic origin'\n",
    "          ]\n",
    "\n",
    "out = io.StringIO()\n",
    "cw = csv.DictWriter(out,fields)\n",
    "cw.writeheader()\n",
    "\n",
    "# Parse each line of text file for information, save to CSV\n",
    "with open(datafile,'r') as inFile:\n",
    "    for line in inFile:\n",
    "        row = {\n",
    "            'Education 1989 Revision' :line[60:62],\n",
    "            'Education 2003 Revision' :line[62],\n",
    "            'Education Reporting Flag':line[63],\n",
    "            'Sex'                     :line[68],\n",
    "            'Age Recode 52'           :line[74:76],\n",
    "            'Age Recode 27'           :line[76:78],\n",
    "            'Age Recode 12'           :line[78:80],\n",
    "            'Place of Death'          :line[82],\n",
    "            'Data year'               :line[101:105],\n",
    "            'Manner of Death'         :line[106],\n",
    "            'Race'                    :line[444:446],\n",
    "            'Hispanic origin'         :line[483:486]            \n",
    "          }\n",
    "        cw.writerow(row)\n",
    "    \n",
    "out.seek(0)\n",
    "\n",
    "# Read tempolary CSV\n",
    "cdf = pd.read_csv(out, dtype=object)"
   ]
  },
  {
   "cell_type": "code",
   "execution_count": null,
   "metadata": {},
   "outputs": [],
   "source": [
    "# Turn empty value into NaN\n",
    "cdf.replace(to_replace=r'^\\s+$', value=np.nan, regex=True, inplace=True)\n"
   ]
  },
  {
   "cell_type": "code",
   "execution_count": null,
   "metadata": {},
   "outputs": [],
   "source": [
    "# Size of Data\n",
    "display(cdf.shape)"
   ]
  },
  {
   "cell_type": "code",
   "execution_count": null,
   "metadata": {},
   "outputs": [],
   "source": [
    "# Missing Value per Column\n",
    "cdf.isnull().sum()"
   ]
  },
  {
   "cell_type": "code",
   "execution_count": null,
   "metadata": {},
   "outputs": [],
   "source": [
    "# Check for Missing Education Data (missing both 1989 and 2003)\n",
    "no_edu = sum((cdf['Education 1989 Revision'].isnull()) & (cdf['Education 2003 Revision'].isnull()))\n",
    "assert no_edu == 0\n",
    "\n",
    "# Only keep row with 'Education 2003 Revision'\n",
    "cdf = cdf[(cdf['Education Reporting Flag'] == '1')]\n",
    "\n",
    "# Drop\n",
    "cdf.drop(labels=['Education 1989 Revision', 'Education Reporting Flag'], axis=1, inplace=True)\n",
    "\n",
    "cdf.head()"
   ]
  },
  {
   "cell_type": "code",
   "execution_count": null,
   "metadata": {},
   "outputs": [],
   "source": [
    "# No missing Age Data so we will use 'Age Recode 52'\n",
    "\n",
    "# Drop 'Age Recode 27' and 'Age Recode 12'\n",
    "cdf.drop(labels=['Age Recode 27', 'Age Recode 12'], axis=1, inplace=True)\n",
    "\n",
    "# Drop Age below '5-9 years old' (01~26) and above 100 years old (46~51)\n",
    "age_codes = [ str(i).zfill(2) for i in range(1,27) ] + [ str(i) for i in range(46,52) ]\n",
    "cdf = cdf[~cdf['Age Recode 52'].isin(age_codes)]\n",
    "\n",
    "cdf.head()"
   ]
  },
  {
   "cell_type": "code",
   "execution_count": null,
   "metadata": {},
   "outputs": [],
   "source": [
    "# Rename Columns\n",
    "cdf.rename({'Education 2003 Revision':'Education', 'Age Recode 52':'Age'}, axis=1, inplace=True)\n",
    "cdf.head()"
   ]
  },
  {
   "cell_type": "code",
   "execution_count": null,
   "metadata": {},
   "outputs": [],
   "source": [
    "# Convert IDs to actual meaning\n",
    "\n",
    "cause_dict = {  '1': 'Accident',\n",
    "                '2': 'Suicide',\n",
    "                '3': 'Homicide',\n",
    "                '4': 'Pending Investigation',\n",
    "                '5': 'Could not determine',\n",
    "                '6': 'Self-Inflicted',\n",
    "                '7': 'Natural' }\n",
    "\n",
    "edu_dict = { '1': '8th grade or less',\n",
    "             '2': '9-12th grade, no diploma',\n",
    "             '3': 'high school graduate or GED completed',\n",
    "             '4': 'some college credit, but no degree',\n",
    "             '5': 'Associate degree',\n",
    "             '6': \"Bachelor's degree\",\n",
    "             '7': \"Master's degree\",\n",
    "             '8': 'Doctorate or Professional degree',\n",
    "             '9': 'Unknown' }\n",
    "\n",
    "age_dict = { #'01':'Under 1 hour (includes not stated hours and minutes)',\n",
    "             #'02':'1 - 23 hours',\n",
    "             #'03':'1 day (includes not stated days)',\n",
    "             #'04':'2 days',\n",
    "             #'05':'3 days',\n",
    "             #'06':'4 days',\n",
    "             #'07':'5 days',\n",
    "             #'08':'6 days',\n",
    "             #'09':'7 - 13 days (includes not stated weeks)',\n",
    "             #'10':'14 - 20 days',\n",
    "             #'11':'21 - 27 days',\n",
    "             #'12':'1 month (includes not stated months)',\n",
    "             #'13':'2 months',\n",
    "             #'14':'3 months',\n",
    "             #'15':'4 months',\n",
    "             #'16':'5 months',\n",
    "             #'17':'6 months',\n",
    "             #'18':'7 months',\n",
    "             #'19':'8 months',\n",
    "             #'20':'9 months',\n",
    "             #'21':'10 months',\n",
    "             #'22':'11 months',\n",
    "             #'23':'1 year',\n",
    "             #'24':'2 years',\n",
    "             #'25':'3 years',\n",
    "             #'26':'4 years',\n",
    "             '27':'5 - 9 years',\n",
    "             '28':'10 - 14 years',\n",
    "             '29':'15 - 19 years',\n",
    "             '30':'20 - 24 years',\n",
    "             '31':'25 - 29 years',\n",
    "             '32':'30 - 34 years',\n",
    "             '33':'35 - 39 years',\n",
    "             '34':'40 - 44 years',\n",
    "             '35':'45 - 49 years',\n",
    "             '36':'50 - 54 years',\n",
    "             '37':'55 - 59 years',\n",
    "             '38':'60 - 64 years',\n",
    "             '39':'65 - 69 years',\n",
    "             '40':'70 - 74 years',\n",
    "             '41':'75 - 79 years',\n",
    "             '42':'80 - 84 years',\n",
    "             '43':'85 - 89 years',\n",
    "             '44':'90 - 94 years',\n",
    "             '45':'95 - 99 years',\n",
    "             #'46':'100 - 104 years',\n",
    "             #'47':'105 - 109 years',\n",
    "             #'48':'110 - 114 years',\n",
    "             #'49':'115 - 119 years',\n",
    "             #'50':'120 - 124 years',\n",
    "             #'51':'125 years and over',\n",
    "             '52':'Age not stated' }\n",
    "\n",
    "race_dict = { '01':'White',\n",
    "              '02':'Black',\n",
    "              '03':'American Indian (Includes Aleuts and Eskimos)',\n",
    "              '04':'Chinese',\n",
    "              '05':'Japanese',\n",
    "              '06':'Hawaiian (includes Part-Hawaiian)',\n",
    "              '07':'Filipino',\n",
    "              '08':'Other Asian or Pacific Islander',\n",
    "              '18':'Asian Indian',\n",
    "              '28':'Korean',\n",
    "              '38':'Samoan',\n",
    "              '48':'Vietnamese',\n",
    "              '58':'Guamanian',\n",
    "              '68':'Other Asian or Pacific Islander',\n",
    "              '78':'Combined other Asian or Pacific Islander',\n",
    "              '00':'Other races' }\n",
    "\n",
    "\n",
    "cdf['Manner of Death'] = cdf['Manner of Death'].map(cause_dict)\n",
    "cdf['Education'] = cdf['Education'].map(edu_dict)\n",
    "cdf['Age'] = cdf['Age'].map(age_dict)\n",
    "cdf['Race'] = cdf['Race'].map(race_dict)\n"
   ]
  },
  {
   "cell_type": "code",
   "execution_count": null,
   "metadata": {},
   "outputs": [],
   "source": [
    "# If cause of death is Suicide\n",
    "cdf_suicide = cdf[cdf['Manner of Death'] == 'Suicide']\n",
    "\n",
    "# If cause of death is Natural\n",
    "cdf_natural = cdf[cdf['Manner of Death'] == 'Natural']"
   ]
  },
  {
   "cell_type": "code",
   "execution_count": null,
   "metadata": {},
   "outputs": [],
   "source": [
    "# Suicide Death\n",
    "plt.show()\n",
    "cdf_suicide['Sex'].value_counts().plot.bar()\n",
    "plt.show()\n",
    "cdf_suicide['Education'].value_counts().reindex(list(edu_dict.values())).plot.bar()\n",
    "plt.show()\n",
    "cdf_suicide['Age'].value_counts().reindex(list(age_dict.values())).plot.bar()\n",
    "plt.show()\n",
    "cdf_suicide['Race'].value_counts().reindex(list(race_dict.values())).plot.bar()\n"
   ]
  },
  {
   "cell_type": "code",
   "execution_count": null,
   "metadata": {},
   "outputs": [],
   "source": [
    "# Natural Death\n",
    "plt.show()\n",
    "cdf_natural['Sex'].value_counts().plot.bar()\n",
    "plt.show()\n",
    "cdf_natural['Education'].value_counts().reindex(list(edu_dict.values())).plot.bar()\n",
    "plt.show()\n",
    "cdf_natural['Age'].value_counts().reindex(list(age_dict.values())).plot.bar()\n",
    "plt.show()\n",
    "cdf_natural['Race'].value_counts().reindex(list(race_dict.values())).plot.bar()"
   ]
  },
  {
   "cell_type": "code",
   "execution_count": 16,
   "metadata": {},
   "outputs": [],
   "source": []
  },
  {
   "cell_type": "code",
   "execution_count": null,
   "metadata": {},
   "outputs": [],
   "source": []
  },
  {
   "cell_type": "code",
   "execution_count": null,
   "metadata": {},
   "outputs": [],
   "source": []
  },
  {
   "cell_type": "code",
   "execution_count": null,
   "metadata": {},
   "outputs": [],
   "source": []
  },
  {
   "cell_type": "markdown",
   "metadata": {},
   "source": [
    "# Data Analysis & Results"
   ]
  },
  {
   "cell_type": "markdown",
   "metadata": {},
   "source": [
    "Include cells that describe the steps in your data analysis."
   ]
  },
  {
   "cell_type": "code",
   "execution_count": 1,
   "metadata": {},
   "outputs": [],
   "source": [
    "## YOUR CODE HERE\n",
    "## FEEL FREE TO ADD MULTIPLE CELLS PER SECTION"
   ]
  },
  {
   "cell_type": "markdown",
   "metadata": {},
   "source": [
    "# Ethics & Privacy"
   ]
  },
  {
   "cell_type": "markdown",
   "metadata": {},
   "source": [
    "*Fill in your ethics & privacy discussion here*"
   ]
  },
  {
   "cell_type": "markdown",
   "metadata": {},
   "source": [
    "# Conclusion & Discussion"
   ]
  },
  {
   "cell_type": "markdown",
   "metadata": {},
   "source": [
    "*Fill in your discussion information here*"
   ]
  }
 ],
 "metadata": {
  "kernelspec": {
   "display_name": "Python 3",
   "language": "python",
   "name": "python3"
  },
  "language_info": {
   "codemirror_mode": {
    "name": "ipython",
    "version": 3
   },
   "file_extension": ".py",
   "mimetype": "text/x-python",
   "name": "python",
   "nbconvert_exporter": "python",
   "pygments_lexer": "ipython3",
   "version": "3.6.7"
  }
 },
 "nbformat": 4,
 "nbformat_minor": 2
}

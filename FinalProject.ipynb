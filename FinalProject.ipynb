{
 "cells": [
  {
   "cell_type": "markdown",
   "metadata": {},
   "source": [
    "# COGS 108 - Final Project "
   ]
  },
  {
   "cell_type": "markdown",
   "metadata": {},
   "source": [
    "# Overview"
   ]
  },
  {
   "cell_type": "markdown",
   "metadata": {},
   "source": [
    "<strong>3-4 sentences summarizing your group's project </strong>\n",
    "\n",
    "*Fill in your overview here*"
   ]
  },
  {
   "cell_type": "markdown",
   "metadata": {},
   "source": [
    "# Names / ID\n",
    "\n",
    "- Lan Wei       \n",
    "- Sean Race     \n",
    "- Weilun Yao    \n",
    "- Shine Paek     \n",
    "- Kyosuke Goto    "
   ]
  },
  {
   "cell_type": "markdown",
   "metadata": {},
   "source": [
    "# Group Members IDs\n",
    "\n",
    "- A########\n",
    "- A########\n",
    "- A########\n",
    "- A########"
   ]
  },
  {
   "cell_type": "markdown",
   "metadata": {},
   "source": [
    "# Research Question"
   ]
  },
  {
   "cell_type": "markdown",
   "metadata": {},
   "source": [
    "*Fill in your research question here* (1-2 sentences)\n",
    "\n",
    "[TODO]\n",
    "\n",
    "- How does one’s education level affect the likelihood of them committing suicide in the United States? \n",
    "- Is it more likely that those who attend top-tier schools have a lower or higher suicide rate?\n",
    "- Do other factors (sex, age group, GDP, generation) have an effect on the relationship between educational attainment and suicide rates?"
   ]
  },
  {
   "cell_type": "markdown",
   "metadata": {},
   "source": [
    "## Background and Prior Work"
   ]
  },
  {
   "cell_type": "markdown",
   "metadata": {},
   "source": [
    "*Fill in your background and prior work here*\n",
    "\n",
    "<strong>Why is this question of interest to your group? What background information led you to your hypothesis. Why is this important?</strong>\n",
    "\n",
    "<strong>Find some relevant prior work, and reference those sources. Even if you think you have a totally novel question, find the most similar prior work that you can and discuss how it relates to your project</strong>\n",
    "\n",
    "<strong>2-3 paragraphs, including at least 2 reference</strong>\n",
    "\n",
    "[TODO]\n",
    "\n",
    "Suicide has always been a highly debated topic. As the World Health Organization pointed out, close than 800 000 people die every year due to suicide, which is one person every 40 seconds. Furthermore, suicide rates have even gone up the past decade, making it the 10th leading cause of death worldwide. As an issue then, the causations and correlations of suicide definitely is a topic that is significant and relative to every person.\n",
    "As a topic of high importance, multiple prior datasets and projects have been done on suicide correlations. World Health Organization has provided many statistics on suicide including gender, age, country, income, and more. Projects and datasets on Kaggle have in addition related socio-economic info with suicide rates by year and country. \n",
    "What our project aims to do is to analyze suicidal rates from another aspect which is how educational attainment and learning outcomes affect it. Not surprisingly the relationship between suicide and educational attainment have been analyzed previously too. For example, a research in the scholarly peer reviewed Journal of Affective Disorders has looked at the correlation between educational attainment and completed suicide taking data from the Italian Mortality database. The conclusions that they have come to have sadly shown that “Of both males and females from 15 to 64 years old, suicide victims were significantly more often to have a higher education attainment compared with the same sex and age counterparts died from natural causes. Persons with higher school attainment, compared with those with a maximum primary school degree, had significantly increased odds ratios of dying from a suicide rather than a natural cause.” \n",
    "        \tOur project wants to furthermore build upon these previous findings and look into this relationship more with data from the states. And in addition, if time permits, we would want to see how other factors such as age, gender, socio-economic status, and so on, affect the relationship between these two factors.\n",
    " \n",
    "References:\n",
    "- World Health Organization: \n",
    "https://www.who.int/mental_health/prevention/suicide/suicideprevent/en/\n",
    "- Wikipedia: \n",
    "https://en.wikipedia.org/wiki/Suicide\n",
    "- Mental Health, Happiness, Economics, Human Freedom project dataset: \n",
    "https://www.kaggle.com/rblcoder/mental-health-happiness-economics-human-freedom/log\n",
    "- Suicide Rates Overview 1985-2016: \n",
    "https://www.kaggle.com/russellyates88/suicide-rates-overview-1985-to-2016\n",
    "- Does the level of education influence completed suicide? A nationwide register study: https://www.sciencedirect.com/science/article/pii/S0165032712006179\n",
    "\n",
    "\n",
    "\n",
    "References (include links):\n",
    "- 1)\n",
    "- 2)\n"
   ]
  },
  {
   "cell_type": "markdown",
   "metadata": {},
   "source": [
    "# Hypothesis\n"
   ]
  },
  {
   "cell_type": "markdown",
   "metadata": {},
   "source": [
    "*Fill in your hypotheses here*\n",
    "\n",
    "[TODO]\n",
    "\n",
    "We believe that people with higher educations are more likely to commit suicide than those who did not pursue a higher education after high school/secondary school. We believe this occurs due to the added stress and high expectations placed upon achieving a higher education as well as the disappointment if such expectations are not met."
   ]
  },
  {
   "cell_type": "markdown",
   "metadata": {},
   "source": [
    "# Dataset(s)"
   ]
  },
  {
   "cell_type": "markdown",
   "metadata": {},
   "source": [
    "*Fill in your dataset information here*\n",
    "\n",
    "<strong>What data will you use to answer your question? Describe the dataset(s) in terms of number of observations, what kind of features it contains, etc. You must use at least one dataset containing at least approximately 1000 observations. You are welcome (and in fact recommended) to find multiple datasets! If you so so, describe each one, and briefly explain how you will combine them together. Include the source of the dataset in the description here.</strong>\n",
    "\n",
    "(Copy this information for each dataset)\n",
    "- Dataset Name:\n",
    "- Link to the dataset:\n",
    "- Number of observations:\n",
    "\n",
    "1-2 sentences describing each dataset. \n",
    "\n",
    "If you plan to use multiple datasets, add 1-2 sentences about how you plan to combine these datasets.\n",
    "\n",
    "============================================\n",
    "\n",
    "[TODO]\n",
    "\n",
    "Suicide Rates Overview 1985 to 2016\n",
    "https://www.kaggle.com/russellyates88/suicide-rates-overview-1985-to-2016\n",
    "\tThe suicide data we collected is provided by Kaggle. It is a comprehensive dataset collected by a Kaggle user called Rusty. Both the suicide, GDP, and HDI data in the dataset are gathered from government orginzations: suicde data is from World Health Organization, GDP is from World Bank, and HDI is from United Nation Development Program. Therefore the dataset is one of the most reliable and accurate dataset available to us from the internet.\n",
    "The dataset contains the number of people suicide in different countries and different age group from year 1985 to 2016. In addition, it also includes the HDI (human development index), GDP (Gross domestic product), and GDP per capita, as a reference of the education, economic and happiness level of people during that year. The dataset also contains an interesting part called “Generation”, which covers people from Boomers, Generation X, Millennials, and other eras. The information about generation allows us to take the historical events into account while analyzing the effect of education on suicide.\n",
    "\tThe Human Development Index (HDI) in the dataset is a statistic composite index of life expectancy (health), education, and per capita income (economy). It can be a good factor to represent the effect of education on suicide rate. However, the correlation between HDI and suicide rate may vary from the correlation between education level and suicide rate, since both health and economy are important factors of HDI.\n",
    "\n",
    "Details about Data:\n",
    "\n",
    "Variable name\n",
    "Description \n",
    "Note\n",
    "Country\n",
    "It is categorical data that divide datasets into multiple sub-datasets in term of country.\n",
    "Since we only care about the effect of education on suicide rate in the U.S., we will remove other countries from the dataset. \n",
    "Year\n",
    "It is includes year 1985 to 2016\n",
    "This data allows us to create the trend of suicide rate and compare it with the trend of education level. \n",
    "Sex\n",
    "Categorical: Male and Female\n",
    "(50% each)\n",
    "The ratio between male and female in this data is 1:1, which can help us to minimize the gender bias while investigating the effect of eduction level on suicide rate.\n",
    "We can also use it to investigate the effect of education on suicide rate base on different gender.\n",
    "age\n",
    "Categorical: 6 age group\n",
    "(approximate 17% each)\n",
    "The age group data is evenly distributed which also minimizes the age bias.\n",
    "We can also use it to investigate the effect of education on suicide rate base on different age group.\n",
    "Suicides number\n",
    "It is the total number of suicide people during the year in different age, gender, and country.\n",
    "The subgroups of this data gives us the freedom to do both general and detailed analysis. \n",
    "Population\n",
    "It is the number of population of people during the year in different age, gender, and country.\n",
    "\n",
    "\n",
    "Suicides / 100k pop\n",
    "It is the suicide ratio\n",
    "Since some countries, like the U.S. has more population, the total suicide may seems much higher in U.S. compare to other coutries. Therefore we will investigate the effect on suicide rate rather than suicde number to reduce the country and population bias.\n",
    "Country year\n",
    "It is the country and year\n",
    "I.e. (Canada1999) \n",
    "Helper data. \n",
    "HDI for year\n",
    "Human Development Index\n",
    "The HDI are missing in some countries during different year. Therefore we may need to remove rows that don’t contain HDI during analysis. However, since there are only 30% rows contain HDI, the reliability of the inference may be reduced.\n",
    "GDP for year\n",
    "Gross Domestic Product\n",
    "An important index for measuring the economic level in a country \n",
    "The GDP measures the economy in the country, which may not be useful for our project. \n",
    "However, since GDP and education levels may be positively correlated, we may be able to use it to draw an indirect inference. \n",
    "GDP Per Capita\n",
    "The average GDP level. A measure of individual;s economic level in a country\n",
    "\n",
    "\n",
    "Generation\n",
    "The generation the age group belong\n",
    "The generation data can allow us to take the historical event into account while analyzing the effect of education on suicide rate. \n",
    "The generation is not evenly distributed, so there may be some generation bias. However, this also suggests the generation may play an important role in affecting people’s suicide tendency\n",
    "\n",
    "\tSince the HDI data from our first dataset may not be sufficient enough (many missing data, and indirect measure of education) for us to draw a reliable inference of effect of education on suicide rate, we gather some addition datasets with more details about education level.\n",
    "\n",
    "Center for Disease Control and Prevention\n",
    "https://www.cdc.gov/nchs/data_access/vitalstatsonline.htm#Mortality_Multiple\n",
    "This dataset is within the National Vital Statistics System provided by the Center for Disease Control and Prevention. Furthermore it is in the subcategory Mortality Multiple Cause-of-Death. This dataset describes the deaths in the states for the past years starting in 1980. The datasets available for public use are from 2011 to 2017. Variables include:\n",
    "Resident_Status\n",
    "Education\n",
    "Month_Of_Death\n",
    "Sex\n",
    "Age\n",
    "Place_Of_Death\n",
    "Marital_Status\n",
    "DOW_of_Death\n",
    "Data_Year\n",
    "Injured_At_Work\n",
    "Manner_Of_Death\n",
    "Method_Of_Disposition\n",
    "Autopsy\n",
    "Place_Of_Causal_Injury\n",
    "Race\n",
    "Hispanic_Origin\n",
    "Etc.\n",
    "In addition to being very detailed, this dataset also has many entries. For example, in the year 2013 alone there are about 1300725 people recorded. This means that for our project, we have more than enough data to work with. Furthermore, since this dataset has both education aspects and manner-of-death aspects (in which one of the manners is suicide), it is a very good dataset for our research question. \n",
    "One of the downsides of this dataset is that it does not have enough economic information, but this is why we have another dataset so that we may be able to analyze economic and income trends and how they play into the relationship between education and suicide. \n",
    "\n"
   ]
  },
  {
   "cell_type": "markdown",
   "metadata": {},
   "source": [
    "# Setup"
   ]
  },
  {
   "cell_type": "markdown",
   "metadata": {},
   "source": [
    "<strong>Include packages used for analysis in cell provided</strong>\n",
    "\n",
    "*Fill in your description here*"
   ]
  },
  {
   "cell_type": "code",
   "execution_count": 41,
   "metadata": {},
   "outputs": [],
   "source": [
    "import pandas as pd\n",
    "import numpy as np\n",
    "import seaborn as sns\n",
    "import matplotlib.pyplot as plt\n",
    "from zipfile import ZipFile\n",
    "\n"
   ]
  },
  {
   "cell_type": "markdown",
   "metadata": {},
   "source": [
    "# Data Cleaning"
   ]
  },
  {
   "cell_type": "markdown",
   "metadata": {},
   "source": [
    "Describe your data cleaning steps here.\n",
    "\n",
    "<strong>What methods did you use to analyze your data? Briefly explain what steps you had to take before you were able to use the datasets you chose to answer your question of interest.\n",
    "    \n",
    "   - How 'clean' is the data?\n",
    "   - What did you have to do to get the data into usable format?\n",
    "   - What pre-processing steps that were required for your methods (for example, checking data distributions and performing any transformations that may be required)\n",
    " \n",
    "</strong>"
   ]
  },
  {
   "cell_type": "code",
   "execution_count": 42,
   "metadata": {},
   "outputs": [],
   "source": [
    "## YOUR CODE HERE\n",
    "## FEEL FREE TO ADD MULTIPLE CELLS PER SECTION"
   ]
  },
  {
   "cell_type": "markdown",
   "metadata": {},
   "source": [
    "### CDC DATA (https://www.cdc.gov/nchs/data/dvs/Record_Layout_2013.pdf)"
   ]
  },
  {
   "cell_type": "code",
   "execution_count": 43,
   "metadata": {},
   "outputs": [],
   "source": [
    "## 2013 Data (EXTRACTS ZIP. SLOW.)\n",
    "\n",
    "#cdcZip   = 'mort2013us.zip'\n",
    "datafile = 'VS13MORT.DUSMCPUB'\n",
    "\n",
    "#with ZipFile(cdcZip, 'r') as z:\n",
    "#     z.extract(datafile)\n",
    "\n",
    "#! head -5 $datafile"
   ]
  },
  {
   "cell_type": "code",
   "execution_count": 44,
   "metadata": {},
   "outputs": [],
   "source": [
    "import csv\n",
    "import io\n",
    "\n",
    "# Set order of Columns\n",
    "fields = ['Data year',\n",
    "          'Manner of Death',\n",
    "          'Place of Death',\n",
    "          'Sex',\n",
    "          'Race',\n",
    "          'Education Reporting Flag',\n",
    "          'Education 1989 Revision',\n",
    "          'Education 2003 Revision',\n",
    "          'Age Recode 52',\n",
    "          'Age Recode 27',\n",
    "          'Age Recode 12',\n",
    "          'Hispanic origin'\n",
    "          ]\n",
    "\n",
    "out = io.StringIO()\n",
    "cw = csv.DictWriter(out,fields)\n",
    "cw.writeheader()\n",
    "\n",
    "# Parse each line of text file for information, save to CSV\n",
    "with open(datafile,'r') as inFile:\n",
    "    for line in inFile:\n",
    "        row = {\n",
    "            'Education 1989 Revision' :line[60:62],\n",
    "            'Education 2003 Revision' :line[62],\n",
    "            'Education Reporting Flag':line[63],\n",
    "            'Sex'                     :line[68],\n",
    "            'Age Recode 52'           :line[74:76],\n",
    "            'Age Recode 27'           :line[76:78],\n",
    "            'Age Recode 12'           :line[78:80],\n",
    "            'Place of Death'          :line[82],\n",
    "            'Data year'               :line[101:105],\n",
    "            'Manner of Death'         :line[106],\n",
    "            'Race'                    :line[444:446],\n",
    "            'Hispanic origin'         :line[483:486]            \n",
    "          }\n",
    "        cw.writerow(row)\n",
    "    \n",
    "out.seek(0)\n",
    "\n",
    "# Read tempolary CSV\n",
    "cdf = pd.read_csv(out, dtype=object)"
   ]
  },
  {
   "cell_type": "code",
   "execution_count": 45,
   "metadata": {},
   "outputs": [],
   "source": [
    "# Turn empty value into NaN\n",
    "cdf.replace(to_replace=r'^\\s+$', value=np.nan, regex=True, inplace=True)\n"
   ]
  },
  {
   "cell_type": "code",
   "execution_count": 46,
   "metadata": {},
   "outputs": [
    {
     "data": {
      "text/plain": [
       "(2601452, 12)"
      ]
     },
     "metadata": {},
     "output_type": "display_data"
    }
   ],
   "source": [
    "# Size of Data\n",
    "display(cdf.shape)"
   ]
  },
  {
   "cell_type": "code",
   "execution_count": 47,
   "metadata": {},
   "outputs": [
    {
     "data": {
      "text/plain": [
       "Data year                         0\n",
       "Manner of Death              430113\n",
       "Place of Death                    0\n",
       "Sex                               0\n",
       "Race                              0\n",
       "Education Reporting Flag          0\n",
       "Education 1989 Revision     2208160\n",
       "Education 2003 Revision      393292\n",
       "Age Recode 52                     0\n",
       "Age Recode 27                     0\n",
       "Age Recode 12                     0\n",
       "Hispanic origin                   0\n",
       "dtype: int64"
      ]
     },
     "execution_count": 47,
     "metadata": {},
     "output_type": "execute_result"
    }
   ],
   "source": [
    "# Missing Value per Column\n",
    "cdf.isnull().sum()"
   ]
  },
  {
   "cell_type": "code",
   "execution_count": 48,
   "metadata": {},
   "outputs": [
    {
     "data": {
      "text/html": [
       "<div>\n",
       "<style scoped>\n",
       "    .dataframe tbody tr th:only-of-type {\n",
       "        vertical-align: middle;\n",
       "    }\n",
       "\n",
       "    .dataframe tbody tr th {\n",
       "        vertical-align: top;\n",
       "    }\n",
       "\n",
       "    .dataframe thead th {\n",
       "        text-align: right;\n",
       "    }\n",
       "</style>\n",
       "<table border=\"1\" class=\"dataframe\">\n",
       "  <thead>\n",
       "    <tr style=\"text-align: right;\">\n",
       "      <th></th>\n",
       "      <th>Data year</th>\n",
       "      <th>Manner of Death</th>\n",
       "      <th>Place of Death</th>\n",
       "      <th>Sex</th>\n",
       "      <th>Race</th>\n",
       "      <th>Education 2003 Revision</th>\n",
       "      <th>Age Recode 52</th>\n",
       "      <th>Age Recode 27</th>\n",
       "      <th>Age Recode 12</th>\n",
       "      <th>Hispanic origin</th>\n",
       "    </tr>\n",
       "  </thead>\n",
       "  <tbody>\n",
       "    <tr>\n",
       "      <th>53204</th>\n",
       "      <td>2013</td>\n",
       "      <td>7</td>\n",
       "      <td>4</td>\n",
       "      <td>F</td>\n",
       "      <td>01</td>\n",
       "      <td>2</td>\n",
       "      <td>41</td>\n",
       "      <td>21</td>\n",
       "      <td>10</td>\n",
       "      <td>100</td>\n",
       "    </tr>\n",
       "    <tr>\n",
       "      <th>53205</th>\n",
       "      <td>2013</td>\n",
       "      <td>7</td>\n",
       "      <td>1</td>\n",
       "      <td>F</td>\n",
       "      <td>02</td>\n",
       "      <td>2</td>\n",
       "      <td>43</td>\n",
       "      <td>23</td>\n",
       "      <td>11</td>\n",
       "      <td>100</td>\n",
       "    </tr>\n",
       "    <tr>\n",
       "      <th>53206</th>\n",
       "      <td>2013</td>\n",
       "      <td>7</td>\n",
       "      <td>4</td>\n",
       "      <td>M</td>\n",
       "      <td>01</td>\n",
       "      <td>4</td>\n",
       "      <td>44</td>\n",
       "      <td>24</td>\n",
       "      <td>11</td>\n",
       "      <td>100</td>\n",
       "    </tr>\n",
       "    <tr>\n",
       "      <th>53207</th>\n",
       "      <td>2013</td>\n",
       "      <td>7</td>\n",
       "      <td>1</td>\n",
       "      <td>F</td>\n",
       "      <td>01</td>\n",
       "      <td>1</td>\n",
       "      <td>43</td>\n",
       "      <td>23</td>\n",
       "      <td>11</td>\n",
       "      <td>100</td>\n",
       "    </tr>\n",
       "    <tr>\n",
       "      <th>53208</th>\n",
       "      <td>2013</td>\n",
       "      <td>7</td>\n",
       "      <td>6</td>\n",
       "      <td>F</td>\n",
       "      <td>01</td>\n",
       "      <td>1</td>\n",
       "      <td>45</td>\n",
       "      <td>25</td>\n",
       "      <td>11</td>\n",
       "      <td>100</td>\n",
       "    </tr>\n",
       "  </tbody>\n",
       "</table>\n",
       "</div>"
      ],
      "text/plain": [
       "      Data year Manner of Death Place of Death Sex Race  \\\n",
       "53204      2013               7              4   F   01   \n",
       "53205      2013               7              1   F   02   \n",
       "53206      2013               7              4   M   01   \n",
       "53207      2013               7              1   F   01   \n",
       "53208      2013               7              6   F   01   \n",
       "\n",
       "      Education 2003 Revision Age Recode 52 Age Recode 27 Age Recode 12  \\\n",
       "53204                       2            41            21            10   \n",
       "53205                       2            43            23            11   \n",
       "53206                       4            44            24            11   \n",
       "53207                       1            43            23            11   \n",
       "53208                       1            45            25            11   \n",
       "\n",
       "      Hispanic origin  \n",
       "53204             100  \n",
       "53205             100  \n",
       "53206             100  \n",
       "53207             100  \n",
       "53208             100  "
      ]
     },
     "execution_count": 48,
     "metadata": {},
     "output_type": "execute_result"
    }
   ],
   "source": [
    "# Check for Missing Education Data (missing both 1989 and 2003)\n",
    "no_edu = sum((cdf['Education 1989 Revision'].isnull()) & (cdf['Education 2003 Revision'].isnull()))\n",
    "assert no_edu == 0\n",
    "\n",
    "# Only keep row with 'Education 2003 Revision'\n",
    "cdf = cdf[(cdf['Education Reporting Flag'] == '1')]\n",
    "\n",
    "# Drop\n",
    "cdf.drop(labels=['Education 1989 Revision', 'Education Reporting Flag'], axis=1, inplace=True)\n",
    "\n",
    "cdf.head()"
   ]
  },
  {
   "cell_type": "code",
   "execution_count": 49,
   "metadata": {},
   "outputs": [],
   "source": [
    "# No missing Age Data so we will use 'Age Recode 52'\n",
    "\n",
    "# Drop 'Age Recode 27' and 'Age Recode 12'\n",
    "cdf.drop(labels=['Age Recode 27', 'Age Recode 12'], axis=1, inplace=True)\n",
    "\n",
    "# Combine age below '5-9 years old' (01~26) to 'Less than 5 years'\n",
    "age_lt5 = [ str(i).zfill(2) for i in range(1,27) ]\n",
    "cdf['Age Recode 52'].replace({age: '26' for age in age_lt5}, regex=True, inplace=True)\n",
    "\n",
    "# Combine and above 90 years old (44~51) to '90 years and over'\n",
    "age_gt90 = [ str(i) for i in range(44,52) ]\n",
    "cdf['Age Recode 52'].replace({age: '44' for age in age_gt90}, regex=True, inplace=True)\n",
    "\n",
    "#cdf.head()"
   ]
  },
  {
   "cell_type": "code",
   "execution_count": 50,
   "metadata": {},
   "outputs": [
    {
     "data": {
      "text/html": [
       "<div>\n",
       "<style scoped>\n",
       "    .dataframe tbody tr th:only-of-type {\n",
       "        vertical-align: middle;\n",
       "    }\n",
       "\n",
       "    .dataframe tbody tr th {\n",
       "        vertical-align: top;\n",
       "    }\n",
       "\n",
       "    .dataframe thead th {\n",
       "        text-align: right;\n",
       "    }\n",
       "</style>\n",
       "<table border=\"1\" class=\"dataframe\">\n",
       "  <thead>\n",
       "    <tr style=\"text-align: right;\">\n",
       "      <th></th>\n",
       "      <th>Data year</th>\n",
       "      <th>Manner of Death</th>\n",
       "      <th>Place of Death</th>\n",
       "      <th>Sex</th>\n",
       "      <th>Race</th>\n",
       "      <th>Education</th>\n",
       "      <th>Age</th>\n",
       "      <th>Hispanic origin</th>\n",
       "    </tr>\n",
       "  </thead>\n",
       "  <tbody>\n",
       "    <tr>\n",
       "      <th>53204</th>\n",
       "      <td>2013</td>\n",
       "      <td>7</td>\n",
       "      <td>4</td>\n",
       "      <td>F</td>\n",
       "      <td>01</td>\n",
       "      <td>2</td>\n",
       "      <td>41</td>\n",
       "      <td>100</td>\n",
       "    </tr>\n",
       "    <tr>\n",
       "      <th>53205</th>\n",
       "      <td>2013</td>\n",
       "      <td>7</td>\n",
       "      <td>1</td>\n",
       "      <td>F</td>\n",
       "      <td>02</td>\n",
       "      <td>2</td>\n",
       "      <td>43</td>\n",
       "      <td>100</td>\n",
       "    </tr>\n",
       "    <tr>\n",
       "      <th>53206</th>\n",
       "      <td>2013</td>\n",
       "      <td>7</td>\n",
       "      <td>4</td>\n",
       "      <td>M</td>\n",
       "      <td>01</td>\n",
       "      <td>4</td>\n",
       "      <td>44</td>\n",
       "      <td>100</td>\n",
       "    </tr>\n",
       "    <tr>\n",
       "      <th>53207</th>\n",
       "      <td>2013</td>\n",
       "      <td>7</td>\n",
       "      <td>1</td>\n",
       "      <td>F</td>\n",
       "      <td>01</td>\n",
       "      <td>1</td>\n",
       "      <td>43</td>\n",
       "      <td>100</td>\n",
       "    </tr>\n",
       "    <tr>\n",
       "      <th>53208</th>\n",
       "      <td>2013</td>\n",
       "      <td>7</td>\n",
       "      <td>6</td>\n",
       "      <td>F</td>\n",
       "      <td>01</td>\n",
       "      <td>1</td>\n",
       "      <td>44</td>\n",
       "      <td>100</td>\n",
       "    </tr>\n",
       "  </tbody>\n",
       "</table>\n",
       "</div>"
      ],
      "text/plain": [
       "      Data year Manner of Death Place of Death Sex Race Education Age  \\\n",
       "53204      2013               7              4   F   01         2  41   \n",
       "53205      2013               7              1   F   02         2  43   \n",
       "53206      2013               7              4   M   01         4  44   \n",
       "53207      2013               7              1   F   01         1  43   \n",
       "53208      2013               7              6   F   01         1  44   \n",
       "\n",
       "      Hispanic origin  \n",
       "53204             100  \n",
       "53205             100  \n",
       "53206             100  \n",
       "53207             100  \n",
       "53208             100  "
      ]
     },
     "execution_count": 50,
     "metadata": {},
     "output_type": "execute_result"
    }
   ],
   "source": [
    "# Rename Columns\n",
    "cdf.rename({'Education 2003 Revision':'Education', 'Age Recode 52':'Age'}, axis=1, inplace=True)\n",
    "cdf.head()"
   ]
  },
  {
   "cell_type": "code",
   "execution_count": 51,
   "metadata": {},
   "outputs": [],
   "source": [
    "# Convert IDs to actual meaning\n",
    "\n",
    "cause_dict = {  '1': 'Accident',\n",
    "                '2': 'Suicide',\n",
    "                '3': 'Homicide',\n",
    "                '4': 'Pending Investigation',\n",
    "                '5': 'Could not determine',\n",
    "                '6': 'Self-Inflicted',\n",
    "                '7': 'Natural' }\n",
    "\n",
    "edu_dict = { '1': '8th grade or less',\n",
    "             '2': '9-12th grade, no diploma',\n",
    "             '3': 'high school graduate or GED completed',\n",
    "             '4': 'some college credit, but no degree',\n",
    "             '5': 'Associate degree',\n",
    "             '6': \"Bachelor's degree\",\n",
    "             '7': \"Master's degree\",\n",
    "             '8': 'Doctorate or Professional degree',\n",
    "             '9': 'Unknown' }\n",
    "\n",
    "age_dict = { '26':'Less than 5 years',\n",
    "             '27':'5 - 9 years',\n",
    "             '28':'10 - 14 years',\n",
    "             '29':'15 - 19 years',\n",
    "             '30':'20 - 24 years',\n",
    "             '31':'25 - 29 years',\n",
    "             '32':'30 - 34 years',\n",
    "             '33':'35 - 39 years',\n",
    "             '34':'40 - 44 years',\n",
    "             '35':'45 - 49 years',\n",
    "             '36':'50 - 54 years',\n",
    "             '37':'55 - 59 years',\n",
    "             '38':'60 - 64 years',\n",
    "             '39':'65 - 69 years',\n",
    "             '40':'70 - 74 years',\n",
    "             '41':'75 - 79 years',\n",
    "             '42':'80 - 84 years',\n",
    "             '43':'85 - 89 years',\n",
    "             '44':'90 years and over',\n",
    "             '52':'Age not stated'}\n",
    "\n",
    "race_dict = { '01':'White',\n",
    "              '02':'Black',\n",
    "              '03':'American Indian (Includes Aleuts and Eskimos)',\n",
    "              '04':'Chinese',\n",
    "              '05':'Japanese',\n",
    "              '06':'Hawaiian (includes Part-Hawaiian)',\n",
    "              '07':'Filipino',\n",
    "              '08':'Other Asian or Pacific Islander',\n",
    "              '18':'Asian Indian',\n",
    "              '28':'Korean',\n",
    "              '38':'Samoan',\n",
    "              '48':'Vietnamese',\n",
    "              '58':'Guamanian',\n",
    "              '68':'Other Asian or Pacific Islander',\n",
    "              '78':'Combined other Asian or Pacific Islander',\n",
    "              '00':'Other races' }\n",
    "\n",
    "\n",
    "cdf['Manner of Death'] = cdf['Manner of Death'].map(cause_dict)\n",
    "cdf['Education'] = cdf['Education'].map(edu_dict)\n",
    "cdf['Age'] = cdf['Age'].map(age_dict)\n",
    "cdf['Race'] = cdf['Race'].map(race_dict)\n"
   ]
  },
  {
   "cell_type": "code",
   "execution_count": 52,
   "metadata": {},
   "outputs": [],
   "source": [
    "# If cause of death is Suicide\n",
    "cdf_suicide = cdf[cdf['Manner of Death'] == 'Suicide']\n",
    "\n",
    "# If cause of death is Natural\n",
    "cdf_natural = cdf[cdf['Manner of Death'] == 'Natural']"
   ]
  },
  {
   "cell_type": "code",
   "execution_count": 53,
   "metadata": {},
   "outputs": [
    {
     "data": {
      "image/png": "[encoded data removed]",
      "text/plain": [
       "<Figure size 432x288 with 1 Axes>"
      ]
     },
     "metadata": {
      "needs_background": "light"
     },
     "output_type": "display_data"
    },
    {
     "data": {
      "image/png": "[encoded data removed]",
      "text/plain": [
       "<Figure size 432x288 with 1 Axes>"
      ]
     },
     "metadata": {
      "needs_background": "light"
     },
     "output_type": "display_data"
    },
    {
     "data": {
      "image/png": "[encoded data removed]",
      "text/plain": [
       "<Figure size 432x288 with 1 Axes>"
      ]
     },
     "metadata": {
      "needs_background": "light"
     },
     "output_type": "display_data"
    },
    {
     "data": {
      "text/plain": [
       "<matplotlib.axes._subplots.AxesSubplot at 0x7fa71c505ba8>"
      ]
     },
     "execution_count": 53,
     "metadata": {},
     "output_type": "execute_result"
    },
    {
     "data": {
      "image/png": "[encoded data removed]",
      "text/plain": [
       "<Figure size 432x288 with 1 Axes>"
      ]
     },
     "metadata": {
      "needs_background": "light"
     },
     "output_type": "display_data"
    }
   ],
   "source": [
    "# Suicide Death\n",
    "plt.show()\n",
    "cdf_suicide['Sex'].value_counts().plot.bar()\n",
    "plt.show()\n",
    "cdf_suicide['Education'].value_counts().reindex(list(edu_dict.values())).plot.bar()\n",
    "plt.show()\n",
    "cdf_suicide['Age'].value_counts().reindex(list(age_dict.values())).plot.bar()\n",
    "plt.show()\n",
    "cdf_suicide['Race'].value_counts().reindex(list(race_dict.values())).plot.bar()\n"
   ]
  },
  {
   "cell_type": "code",
   "execution_count": 54,
   "metadata": {},
   "outputs": [
    {
     "data": {
      "image/png": "[encoded data removed]",
      "text/plain": [
       "<Figure size 432x288 with 1 Axes>"
      ]
     },
     "metadata": {
      "needs_background": "light"
     },
     "output_type": "display_data"
    },
    {
     "data": {
      "image/png": "[encoded data removed]",
      "text/plain": [
       "<Figure size 432x288 with 1 Axes>"
      ]
     },
     "metadata": {
      "needs_background": "light"
     },
     "output_type": "display_data"
    },
    {
     "data": {
      "image/png": "[encoded data removed]",
      "text/plain": [
       "<Figure size 432x288 with 1 Axes>"
      ]
     },
     "metadata": {
      "needs_background": "light"
     },
     "output_type": "display_data"
    },
    {
     "data": {
      "text/plain": [
       "<matplotlib.axes._subplots.AxesSubplot at 0x7fa71c68d6d8>"
      ]
     },
     "execution_count": 54,
     "metadata": {},
     "output_type": "execute_result"
    },
    {
     "data": {
      "image/png": "[encoded data removed]",
      "text/plain": [
       "<Figure size 432x288 with 1 Axes>"
      ]
     },
     "metadata": {
      "needs_background": "light"
     },
     "output_type": "display_data"
    }
   ],
   "source": [
    "# Natural Death\n",
    "plt.show()\n",
    "cdf_natural['Sex'].value_counts().plot.bar()\n",
    "plt.show()\n",
    "cdf_natural['Education'].value_counts().reindex(list(edu_dict.values())).plot.bar()\n",
    "plt.show()\n",
    "cdf_natural['Age'].value_counts().reindex(list(age_dict.values())).plot.bar()\n",
    "plt.show()\n",
    "cdf_natural['Race'].value_counts().reindex(list(race_dict.values())).plot.bar()"
   ]
  },
  {
   "cell_type": "markdown",
   "metadata": {},
   "source": [
    "# Data Visualization"
   ]
  },
  {
   "cell_type": "code",
   "execution_count": null,
   "metadata": {},
   "outputs": [],
   "source": []
  },
  {
   "cell_type": "markdown",
   "metadata": {},
   "source": [
    "# Data Analysis & Results"
   ]
  },
  {
   "cell_type": "markdown",
   "metadata": {},
   "source": [
    "Include cells that describe the steps in your data analysis.\n",
    "\n",
    "<strong>\n",
    "EDA\n",
    "   \n",
    "   - What distributions do your variables take?\n",
    "   - Are there any outliers?\n",
    "   - Relationship between variables?\n",
    "   \n",
    "   \n",
    "Analysis\n",
    "\n",
    "   - What approaches did you use? Why?\n",
    "   - What were the results?\n",
    "   - What were your interpretation of these findings?\n",
    "    \n",
    "There must be AT LEAST THREE appropriate data visualizations throughout these sections. Each visualization must include an interpretation of what is displayed AND what should be learned from that visualization. Be sure that the appropriate type of visualization is generated given the data that you have, axes are all labeled, and the visualizations clearly communicate the point you're trying to make.\n",
    "</strong>"
   ]
  },
  {
   "cell_type": "code",
   "execution_count": 16,
   "metadata": {},
   "outputs": [],
   "source": [
    "## YOUR CODE HERE\n",
    "## FEEL FREE TO ADD MULTIPLE CELLS PER SECTION"
   ]
  },
  {
   "cell_type": "markdown",
   "metadata": {},
   "source": [
    "# Ethics & Privacy"
   ]
  },
  {
   "cell_type": "markdown",
   "metadata": {},
   "source": [
    "*Fill in your ethics & privacy discussion here*\n",
    "\n",
    "<strong>\n",
    "Briefly acknowledge and address any potential issues of ethics and privacy for the proposed project. In particular:\n",
    "    \n",
    "- Did you have permission to use this data, for this purpose?  \n",
    "- Are there privacy concerns regarding your datasets that you need to deal with, and/or terms of use that you need to comply with?\n",
    "- Are there potential biases in your dataset(s), in terms of who is composes, and how it was collected, that may be problematic in terms of it allowing for equitable analysis? (For example, does your data exclude particular populations, or is it likely to reflect particular human biases in a way that could be a problem?)\n",
    "- Are there any other issues related to your topic area, data, and/or analyses that are potentially prolematic in terms of data privacy and equitable impact?  \n",
    "- How did you handle issues you identified?\n",
    "(1 - 2 Paragraphs)\n",
    "</strong>\n",
    "\n",
    "[TODO]\n",
    "\n",
    "The data we accessed to ascertain whether or not our hypothesis was true were all found publicly online, granting us permission to use this data for the purpose of our data research.  Overall, the nature of our data can be regarded as highly controversial. Suicide is a topic that is not often discussed, and analysed even less. Tying such an issue with something so common as education can lead to an oversimplification of the importance of either issue. The focus of our project is to better understand how data from multiple different data sets can be cross analysed with that from others to try and find patterns of positive correlation. Our main purpose is not however to discredit higher education, and name it as an instigator for rising suicide rates. \n",
    "Doubly, we must consider that there are often issues of whether or not all proper cases of suicide are reported. It can also be said that those from regions with access to less education, and cases of suicide might also have less resources to go about reporting the incident to any sort of census -- potentially skewing equitable analysis. There is also the concern that given the general controversial nature of a suicide, there may be less reported cases than the true number of cases that actually did occur. \n",
    "Regardless of whether or not our hypothesis is proven false, or not, we have to be careful not to imply that correlation necessary results in causation. The correlation of one to another can not, and should not be regarded as a direct effect, and consequence of one another in any context. \n"
   ]
  },
  {
   "cell_type": "markdown",
   "metadata": {},
   "source": [
    "# Conclusion & Discussion"
   ]
  },
  {
   "cell_type": "markdown",
   "metadata": {},
   "source": [
    "*Fill in your discussion information here*\n",
    "\n",
    "<strong>\n",
    "Discuss your project. Summarize your data and question. Briefly describe your analysis. Summarize your results and conclusions. Be sure to mention any limitation of your project. Discuss the impact of this work on society.\n",
    "\n",
    "(2-3 paragraph)\n",
    "</strong>"
   ]
  },
  {
   "cell_type": "code",
   "execution_count": null,
   "metadata": {},
   "outputs": [],
   "source": []
  }
 ],
 "metadata": {
  "kernelspec": {
   "display_name": "Python 3",
   "language": "python",
   "name": "python3"
  },
  "language_info": {
   "codemirror_mode": {
    "name": "ipython",
    "version": 3
   },
   "file_extension": ".py",
   "mimetype": "text/x-python",
   "name": "python",
   "nbconvert_exporter": "python",
   "pygments_lexer": "ipython3",
   "version": "3.6.7"
  }
 },
 "nbformat": 4,
 "nbformat_minor": 2
}

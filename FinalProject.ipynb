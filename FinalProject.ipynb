{
 "cells": [
  {
   "cell_type": "markdown",
   "metadata": {},
   "source": [
    "# COGS 108 - Final Project "
   ]
  },
  {
   "cell_type": "markdown",
   "metadata": {},
   "source": [
    "# Overview"
   ]
  },
  {
   "cell_type": "markdown",
   "metadata": {},
   "source": [
    "<strong>3-4 sentences summarizing your group's project </strong>\n",
    "\n",
    "*Fill in your overview here*"
   ]
  },
  {
   "cell_type": "markdown",
   "metadata": {},
   "source": [
    "# Names / ID\n",
    "\n",
    "- Lan Wei       \n",
    "- Sean Race     \n",
    "- Weilun Yao    \n",
    "- Shine Paek     \n",
    "- Kyosuke Goto    "
   ]
  },
  {
   "cell_type": "markdown",
   "metadata": {},
   "source": [
    "# Group Members IDs\n",
    "\n",
    "- A########\n",
    "- A########\n",
    "- A########\n",
    "- A########"
   ]
  },
  {
   "cell_type": "markdown",
   "metadata": {},
   "source": [
    "# Research Question"
   ]
  },
  {
   "cell_type": "markdown",
   "metadata": {},
   "source": [
    "*Fill in your research question here* (1-2 sentences)\n"
   ]
  },
  {
   "cell_type": "markdown",
   "metadata": {},
   "source": [
    "## Background and Prior Work"
   ]
  },
  {
   "cell_type": "markdown",
   "metadata": {},
   "source": [
    "*Fill in your background and prior work here*\n",
    "\n",
    "<strong>Why is this question of interest to your group? What background information led you to your hypothesis. Why is this important?</strong>\n",
    "\n",
    "<strong>Find some relevant prior work, and reference those sources. Even if you think you have a totally novel question, find the most similar prior work that you can and discuss how it relates to your project</strong>\n",
    "\n",
    "<strong>2-3 paragraphs, including at least 2 reference</strong>\n",
    "\n",
    "References (include links):\n",
    "- 1)\n",
    "- 2)\n"
   ]
  },
  {
   "cell_type": "markdown",
   "metadata": {},
   "source": [
    "# Hypothesis\n"
   ]
  },
  {
   "cell_type": "markdown",
   "metadata": {},
   "source": [
    "*Fill in your hypotheses here*\n"
   ]
  },
  {
   "cell_type": "markdown",
   "metadata": {},
   "source": [
    "# Dataset"
   ]
  },
  {
   "cell_type": "markdown",
   "metadata": {},
   "source": [
    "### Dataset Name: \n",
    "Mortality Multiple Cause Files\n",
    "\n",
    "### Site: \n",
    "Centers for Disease Control and Prevention - National Center for Health Statistics<BR>\n",
    "https://www.cdc.gov/nchs/data_access/vitalstatsonline.htm\n",
    "\n",
    "### Dataset Link:\n",
    "2017 Dataset\n",
    "&nbsp;&nbsp;&nbsp;&nbsp;\n",
    "ftp://ftp.cdc.gov/pub/Health_Statistics/NCHS/Datasets/DVS/mortality/mort2017us.zip\n",
    "<BR>2016 Dataset\n",
    "&nbsp;&nbsp;&nbsp;&nbsp;\n",
    "ftp://ftp.cdc.gov/pub/Health_Statistics/NCHS/Datasets/DVS/mortality/mort2016us.zip\n",
    "&nbsp;&nbsp;&nbsp;&nbsp;\n",
    "<BR>2015 Dataset\n",
    "&nbsp;&nbsp;&nbsp;&nbsp;\n",
    "ftp://ftp.cdc.gov/pub/Health_Statistics/NCHS/Datasets/DVS/mortality/mort2015us.zip\n",
    "<BR>2014 Dataset\n",
    "&nbsp;&nbsp;&nbsp;&nbsp;\n",
    "ftp://ftp.cdc.gov/pub/Health_Statistics/NCHS/Datasets/DVS/mortality/mort2014us.zip\n",
    "<BR>2013 Dataset\n",
    "&nbsp;&nbsp;&nbsp;&nbsp;\n",
    "ftp://ftp.cdc.gov/pub/Health_Statistics/NCHS/Datasets/DVS/mortality/mort2013us.zip\n",
    "\n",
    "### Number of Observations:\n",
    "TOTAL:&nbsp;&nbsp;&nbsp;&nbsp;&nbsp;&nbsp;&nbsp;&nbsp;&nbsp;&nbsp;&nbsp;&nbsp;&nbsp;\n",
    "13,520,719 \n",
    "<BR>2017 Dataset:\n",
    "&nbsp;&nbsp;&nbsp;&nbsp;\n",
    "2,820,034 \n",
    "<BR>2016 Dataset:\n",
    "&nbsp;&nbsp;&nbsp;&nbsp;\n",
    "2,749,864\n",
    "<BR>2015 Dataset:\n",
    "&nbsp;&nbsp;&nbsp;&nbsp;\n",
    "2,718,198\n",
    "<BR>2014 Dataset:\n",
    "&nbsp;&nbsp;&nbsp;&nbsp;\n",
    "2,631,171\n",
    "<BR>2013 Dataset:\n",
    "&nbsp;&nbsp;&nbsp;&nbsp;\n",
    "2,601,452\n",
    "\n",
    "### Fields:\n",
    "Age<BR>\n",
    "Autopsy<BR>\n",
    "Cause<BR>\n",
    "Day of Week<BR>\n",
    "Education<BR>\n",
    "Hispanic Origin<BR>\n",
    "Marital Status<BR>\n",
    "Method of Disposition<BR>\n",
    "Month of Death<BR>\n",
    "Place of Death<BR>\n",
    "Place of Injury<BR>\n",
    "Race<BR>\n",
    "Resident Status<BR>\n",
    "Sex<BR>\n",
    "etc...\n",
    "\n",
    "### Description:\n",
    "These datasets are publicly available within the National Vital Statistics System provided by the Center for Disease Control and Prevention. The Morality data used provides national demographic, cause of death information. Public use file omits sensitive information such as location (state/county) and exact dates of death. Available data year ranges from 1968 to 2017. We will be analyzing the years 2013 to 2017.\n",
    "\n",
    "Each of these dataset are detailed and contain many entries. For example, in the year 2013 alone there are about 2,600,000 deaths recorded. This means that for our project, we have more than enough data to work with. Furthermore, since this dataset has both education aspects and manner-of-death aspects (in which one of the manners is suicide), it is a good dataset for our research question.\n",
    "\n",
    "Each data file contains tapes (rows) with fields identified by column number. Since the data from each year uses identical field location, they were able to be combined without adjustments.\n",
    "\n",
    "\n",
    "\n"
   ]
  },
  {
   "cell_type": "markdown",
   "metadata": {},
   "source": [
    "# Setup"
   ]
  },
  {
   "cell_type": "markdown",
   "metadata": {},
   "source": [
    "<strong>Include packages used for analysis in cell provided</strong>\n",
    "\n",
    "*Fill in your description here*"
   ]
  },
  {
   "cell_type": "code",
   "execution_count": 1,
   "metadata": {},
   "outputs": [],
   "source": [
    "import pandas as pd\n",
    "import numpy as np\n",
    "import seaborn as sns\n",
    "import matplotlib.pyplot as plt\n",
    "from zipfile import ZipFile\n",
    "import csv\n",
    "import io\n",
    "import glob\n",
    "import gc\n"
   ]
  },
  {
   "cell_type": "markdown",
   "metadata": {},
   "source": [
    "# Data Cleaning"
   ]
  },
  {
   "cell_type": "markdown",
   "metadata": {},
   "source": [
    "Describe your data cleaning steps here.\n",
    "\n",
    "<strong>What methods did you use to analyze your data? Briefly explain what steps you had to take before you were able to use the datasets you chose to answer your question of interest.\n",
    "    \n",
    "   - How 'clean' is the data?\n",
    "   - What did you have to do to get the data into usable format?\n",
    "   - What pre-processing steps that were required for your methods (for example, checking data distributions and performing any transformations that may be required)\n",
    " \n",
    "</strong>"
   ]
  },
  {
   "cell_type": "markdown",
   "metadata": {},
   "source": [
    "The obtained datasets have the extension \".DUSMCPUB\" and are compressed using Zip. Since each of uncompressed data file was more than 1GB in size, we needed to clean/process the data files individually by years to work within the limited memory resource. In order to extract and process the data we defined several functions:\n",
    "\n",
    "   - <strong>extractZip</strong> : Extracts specified data files from zip archive in directory    \n",
    "   - <strong>read_data</strong> :  Create pandas DataFrame from single Mortality data file (.DUSMCPUB)\n",
    "   - <strong>get_cdf</strong> :    Process individual data frames (by year) and output combined data frame\n"
   ]
  },
  {
   "cell_type": "code",
   "execution_count": 2,
   "metadata": {},
   "outputs": [],
   "source": [
    "'''\n",
    "    Extracts data file from zip archive in directory\n",
    "    Parameter: Integer Start year, Integer End year (inclusive)\n",
    "    Return Value: None\n",
    "'''\n",
    "def extractZip(start,end):\n",
    "    for year in range(start,end+1):\n",
    "        file = 'mort{}us.zip'.format(year)\n",
    "        try:\n",
    "            with ZipFile(file,'r') as z:\n",
    "                z.extractall()\n",
    "                \n",
    "        except FileNotFoundError:\n",
    "            print('MISSING ' + file)\n",
    "        else:\n",
    "            print('UNZIPPED ' + file)"
   ]
  },
  {
   "cell_type": "code",
   "execution_count": 3,
   "metadata": {},
   "outputs": [],
   "source": [
    "## Extract zip files from year 2013 to 2017\n",
    "#extractZip(start=2013, end=2017)\n",
    "\n",
    "## DEBUG : Make sure data file exist for 2013-2017\n",
    "#assert len(glob.glob('VS1[3-7]MORT.DUSMCPUB')) == 5"
   ]
  },
  {
   "cell_type": "markdown",
   "metadata": {},
   "source": [
    "Since the pandas library does not provide a builtin function to read the column seperated data, we wrote the function 'read_data' to transform our dataset into data frames. The function converts each row (string) in the data file into a row in data frame by interpreting the values found in specific columns. StringIO was required to effeciently use memory. Data were read in as objects types because the digits in the dataset represents code/key instead of numerical value. While there were many fields in the raw dataset, for the purpose of our project we selected:            \n",
    "   - Data year\n",
    "   - Manner of Death\n",
    "   - Sex\n",
    "   - Race\n",
    "   - Education Reporting Flag\n",
    "   - Education 1989 Revision\n",
    "   - Education 2003 Revision\n",
    "   - Age Recode 52\n",
    "   - Hispanic origin\n",
    "              \n"
   ]
  },
  {
   "cell_type": "code",
   "execution_count": 4,
   "metadata": {},
   "outputs": [],
   "source": [
    "'''\n",
    "    Read in single CDC Mortality data file (.DUSMCPUB)\n",
    "    Parameter: String filename\n",
    "    Return Value: pandas DataFrame\n",
    "'''\n",
    "def read_data(filename):\n",
    "    \n",
    "    # Specify column order\n",
    "    fields = ['Data year',\n",
    "              'Manner of Death',\n",
    "              'Sex',\n",
    "              'Race',\n",
    "              'Education Reporting Flag',\n",
    "              'Education 1989 Revision',\n",
    "              'Education 2003 Revision',\n",
    "              'Age Recode 52',\n",
    "              'Hispanic origin']\n",
    "\n",
    "    out = io.StringIO()\n",
    "    cw = csv.DictWriter(out,fields)\n",
    "    cw.writeheader()\n",
    "\n",
    "    # Open data file\n",
    "    with open(filename,'r') as inFile:\n",
    "        for line in inFile:\n",
    "            \n",
    "            # Specify field name and tape location\n",
    "            row = {\n",
    "                'Education 1989 Revision' :line[60:62],\n",
    "                'Education 2003 Revision' :line[62],\n",
    "                'Education Reporting Flag':line[63],\n",
    "                'Sex'                     :line[68],\n",
    "                'Age Recode 52'           :line[74:76],\n",
    "                'Data year'               :line[101:105],\n",
    "                'Manner of Death'         :line[106],\n",
    "                'Race'                    :line[444:446],\n",
    "                'Hispanic origin'         :line[483:486]            \n",
    "              }\n",
    "            cw.writerow(row)\n",
    "\n",
    "    out.seek(0)\n",
    "    return pd.read_csv(out, dtype=object)"
   ]
  },
  {
   "cell_type": "markdown",
   "metadata": {},
   "source": [
    "In the function 'read_data', we were able to select which fields to read from the data file. 'read_data' is a helper function to the function 'get_cdf' where majority of data cleaning takes place. This function accepts 3 arguments: start year, end year, and (education) revision year. Each data frame corresponding to the year between end year and start year is processed as below.\n",
    "\n",
    "The data set from CDC was mostly clean even though missing values were found for 'Manner of Death','Education 1989 Revision','Education 2003 Revision' columns. Any missing values (blank space) were replaced by NaN values so it can be interpreted. \n",
    "\n",
    "First we removed any entries where 'Manner of Death' was not Suicide (2) or Natural (7). In this process, missing values and irrelevant data were removed.\n",
    "\n",
    "Next we checked if any rows were missing both 'Education 1989 Revision' and 'Education 2003 Revision' values. The results showed that the entries either contained 1989 revision code or 2003 revision values. Although we attempted to merge the categories for 1989 and 2003 revisions, this proved to be difficult because 1989 only showed the number of years of school attended, whereas 2003 was based on education levels and degrees obtained. For example, 'some college credit, but no degree' may mean any years of college and college degree may be obtained in various years.\n",
    "\n",
    "Using the revision argument to the function, we decided to create seperate output data frames that only contain entries from either 1989 educational revision or 2003 educational revision. In each case, we removed the column for 'Education Reporting Flag' used to distinguish entries by revision and the column for the alternative revision.\n",
    "\n",
    "Upon inspection of the data, we found that the included age ranged from 'Under 1 hour' (00) to '125 years and over' (51). First, we combined all the ages from 'under 1 hour' (00) to '4 years' (26) into 'less than 5 years old' to represent age group before K-12 education. Furthermore we felt that in our analysis, suicide before age 5 was unusual. Next, we took additional precaution by combining the eight ages groups above 90 into 'greater than 90'. This was done to protect the identities of relatively few high-aged individuals who had passed away by suicide in that specific year.\n",
    "\n",
    "After renaming the columns for easier reference, each processed DataFrame (by year) were combined to form a combined data frame representing processed data from year 2013 to 2017.\n"
   ]
  },
  {
   "cell_type": "code",
   "execution_count": 5,
   "metadata": {},
   "outputs": [],
   "source": [
    "'''\n",
    "    Output cleaned, combined DataFrame from several CDC Mortality data file (.DUSMCPUB)\n",
    "    Parameter: Integer Start year, Integer End year, Integer Education Revision year\n",
    "    Return Value: pandas DataFrame\n",
    "'''\n",
    "def get_cdf(start, end, revision=None):\n",
    "\n",
    "    dfs = []\n",
    "    for year in range(start%100,(end+1)%100):\n",
    "        file = 'VS{}MORT.DUSMCPUB'.format(year)\n",
    "        print('{}    rev: {}'.format(file, revision))\n",
    "        \n",
    "        # Read in this year's dataset\n",
    "        df = read_data(file)\n",
    "\n",
    "        #Turn empty value into NaN\n",
    "        df.replace(to_replace=r'^\\s+$', value=np.nan, regex=True, inplace=True)\n",
    "                \n",
    "        # Show Size\n",
    "        #display(df.shape)\n",
    "            \n",
    "        # Show Missing Value\n",
    "        #display(df.isnull().sum())\n",
    "\n",
    "        # Remove Death except Natural or Suicide\n",
    "        df = df[(df['Manner of Death'] == '2') | (df['Manner of Death'] == '7')]\n",
    "        \n",
    "        # Check for Missing Education Data (missing both 1989 and 2003)\n",
    "        no_edu = sum((df['Education 1989 Revision'].isnull()) & (df['Education 2003 Revision'].isnull()))\n",
    "        assert no_edu == 0    \n",
    "\n",
    "        # Remove Revision        \n",
    "        if revision == 1989:\n",
    "            df = df[(df['Education Reporting Flag'] == '0')]\n",
    "            df.drop(labels=['Education 2003 Revision', 'Education Reporting Flag'], axis=1, inplace=True)\n",
    "            df.rename({'Education 1989 Revision':'Education'}, axis=1, inplace=True)\n",
    "        elif revision == 2003:\n",
    "            df = df[(df['Education Reporting Flag'] == '1')]\n",
    "            df.drop(labels=['Education 1989 Revision', 'Education Reporting Flag'], axis=1, inplace=True)\n",
    "            df.rename({'Education 2003 Revision':'Education'}, axis=1, inplace=True)\n",
    "\n",
    "        # Combine age below 5-9 years old (01~26) to 'Less than 5 years'\n",
    "        age_lt5 = [ str(i).zfill(2) for i in range(1,27) ]\n",
    "        df['Age Recode 52'].replace({age: '26' for age in age_lt5}, regex=True, inplace=True)\n",
    "\n",
    "        # Combine age above 90 years old (44~51) to '90 years and over'\n",
    "        age_gt90 = [ str(i) for i in range(44,52) ]\n",
    "        df['Age Recode 52'].replace({age: '44' for age in age_gt90}, regex=True, inplace=True)        \n",
    "    \n",
    "        # Rename the Columns\n",
    "        df.rename({'Data year':'Year',\n",
    "            'Manner of Death':'Cause',\n",
    "            'Place of Death':'Location',\n",
    "            'Age Recode 52':'Age'\n",
    "           }, axis=1, inplace=True)\n",
    "       \n",
    "        # Append data frame\n",
    "        dfs.append(df)\n",
    "        \n",
    "        del df\n",
    "        gc.collect()\n",
    "        \n",
    "    return pd.concat(dfs)"
   ]
  },
  {
   "cell_type": "code",
   "execution_count": 6,
   "metadata": {},
   "outputs": [
    {
     "name": "stdout",
     "output_type": "stream",
     "text": [
      "VS13MORT.DUSMCPUB    rev: 1989\n",
      "VS14MORT.DUSMCPUB    rev: 1989\n",
      "VS15MORT.DUSMCPUB    rev: 1989\n",
      "VS16MORT.DUSMCPUB    rev: 1989\n",
      "VS17MORT.DUSMCPUB    rev: 1989\n",
      "VS13MORT.DUSMCPUB    rev: 2003\n",
      "VS14MORT.DUSMCPUB    rev: 2003\n",
      "VS15MORT.DUSMCPUB    rev: 2003\n",
      "VS16MORT.DUSMCPUB    rev: 2003\n",
      "VS17MORT.DUSMCPUB    rev: 2003\n"
     ]
    }
   ],
   "source": [
    "## Create DataFrame from years 2013-2017\n",
    "#cdf_1989 = get_cdf(start=2013, end=2017, revision=1989)\n",
    "#cdf_2003 = get_cdf(start=2013, end=2017, revision=2003)"
   ]
  },
  {
   "cell_type": "code",
   "execution_count": 8,
   "metadata": {},
   "outputs": [
    {
     "name": "stdout",
     "output_type": "stream",
     "text": [
      "Revision 2003\n"
     ]
    },
    {
     "data": {
      "text/plain": [
       "(10337827, 7)"
      ]
     },
     "metadata": {},
     "output_type": "display_data"
    },
    {
     "data": {
      "text/plain": [
       "Year               0\n",
       "Cause              0\n",
       "Sex                0\n",
       "Race               0\n",
       "Education          0\n",
       "Age                0\n",
       "Hispanic origin    0\n",
       "dtype: int64"
      ]
     },
     "metadata": {},
     "output_type": "display_data"
    },
    {
     "data": {
      "text/html": [
       "<div>\n",
       "<style scoped>\n",
       "    .dataframe tbody tr th:only-of-type {\n",
       "        vertical-align: middle;\n",
       "    }\n",
       "\n",
       "    .dataframe tbody tr th {\n",
       "        vertical-align: top;\n",
       "    }\n",
       "\n",
       "    .dataframe thead th {\n",
       "        text-align: right;\n",
       "    }\n",
       "</style>\n",
       "<table border=\"1\" class=\"dataframe\">\n",
       "  <thead>\n",
       "    <tr style=\"text-align: right;\">\n",
       "      <th></th>\n",
       "      <th>Year</th>\n",
       "      <th>Cause</th>\n",
       "      <th>Sex</th>\n",
       "      <th>Race</th>\n",
       "      <th>Education</th>\n",
       "      <th>Age</th>\n",
       "      <th>Hispanic origin</th>\n",
       "    </tr>\n",
       "  </thead>\n",
       "  <tbody>\n",
       "    <tr>\n",
       "      <th>53204</th>\n",
       "      <td>2013</td>\n",
       "      <td>7</td>\n",
       "      <td>F</td>\n",
       "      <td>01</td>\n",
       "      <td>2</td>\n",
       "      <td>41</td>\n",
       "      <td>100</td>\n",
       "    </tr>\n",
       "    <tr>\n",
       "      <th>53205</th>\n",
       "      <td>2013</td>\n",
       "      <td>7</td>\n",
       "      <td>F</td>\n",
       "      <td>02</td>\n",
       "      <td>2</td>\n",
       "      <td>43</td>\n",
       "      <td>100</td>\n",
       "    </tr>\n",
       "    <tr>\n",
       "      <th>53206</th>\n",
       "      <td>2013</td>\n",
       "      <td>7</td>\n",
       "      <td>M</td>\n",
       "      <td>01</td>\n",
       "      <td>4</td>\n",
       "      <td>44</td>\n",
       "      <td>100</td>\n",
       "    </tr>\n",
       "    <tr>\n",
       "      <th>53207</th>\n",
       "      <td>2013</td>\n",
       "      <td>7</td>\n",
       "      <td>F</td>\n",
       "      <td>01</td>\n",
       "      <td>1</td>\n",
       "      <td>43</td>\n",
       "      <td>100</td>\n",
       "    </tr>\n",
       "    <tr>\n",
       "      <th>53208</th>\n",
       "      <td>2013</td>\n",
       "      <td>7</td>\n",
       "      <td>F</td>\n",
       "      <td>01</td>\n",
       "      <td>1</td>\n",
       "      <td>44</td>\n",
       "      <td>100</td>\n",
       "    </tr>\n",
       "  </tbody>\n",
       "</table>\n",
       "</div>"
      ],
      "text/plain": [
       "       Year Cause Sex Race Education Age Hispanic origin\n",
       "53204  2013     7   F   01         2  41             100\n",
       "53205  2013     7   F   02         2  43             100\n",
       "53206  2013     7   M   01         4  44             100\n",
       "53207  2013     7   F   01         1  43             100\n",
       "53208  2013     7   F   01         1  44             100"
      ]
     },
     "metadata": {},
     "output_type": "display_data"
    },
    {
     "name": "stdout",
     "output_type": "stream",
     "text": [
      "Revision 1989\n"
     ]
    },
    {
     "data": {
      "text/plain": [
       "(510110, 7)"
      ]
     },
     "metadata": {},
     "output_type": "display_data"
    },
    {
     "data": {
      "text/plain": [
       "Year               0\n",
       "Cause              0\n",
       "Sex                0\n",
       "Race               0\n",
       "Education          0\n",
       "Age                0\n",
       "Hispanic origin    0\n",
       "dtype: int64"
      ]
     },
     "metadata": {},
     "output_type": "display_data"
    },
    {
     "data": {
      "text/html": [
       "<div>\n",
       "<style scoped>\n",
       "    .dataframe tbody tr th:only-of-type {\n",
       "        vertical-align: middle;\n",
       "    }\n",
       "\n",
       "    .dataframe tbody tr th {\n",
       "        vertical-align: top;\n",
       "    }\n",
       "\n",
       "    .dataframe thead th {\n",
       "        text-align: right;\n",
       "    }\n",
       "</style>\n",
       "<table border=\"1\" class=\"dataframe\">\n",
       "  <thead>\n",
       "    <tr style=\"text-align: right;\">\n",
       "      <th></th>\n",
       "      <th>Year</th>\n",
       "      <th>Cause</th>\n",
       "      <th>Sex</th>\n",
       "      <th>Race</th>\n",
       "      <th>Education</th>\n",
       "      <th>Age</th>\n",
       "      <th>Hispanic origin</th>\n",
       "    </tr>\n",
       "  </thead>\n",
       "  <tbody>\n",
       "    <tr>\n",
       "      <th>0</th>\n",
       "      <td>2013</td>\n",
       "      <td>7</td>\n",
       "      <td>M</td>\n",
       "      <td>01</td>\n",
       "      <td>15</td>\n",
       "      <td>44</td>\n",
       "      <td>100</td>\n",
       "    </tr>\n",
       "    <tr>\n",
       "      <th>1</th>\n",
       "      <td>2013</td>\n",
       "      <td>7</td>\n",
       "      <td>F</td>\n",
       "      <td>01</td>\n",
       "      <td>12</td>\n",
       "      <td>42</td>\n",
       "      <td>100</td>\n",
       "    </tr>\n",
       "    <tr>\n",
       "      <th>2</th>\n",
       "      <td>2013</td>\n",
       "      <td>7</td>\n",
       "      <td>M</td>\n",
       "      <td>01</td>\n",
       "      <td>17</td>\n",
       "      <td>40</td>\n",
       "      <td>100</td>\n",
       "    </tr>\n",
       "    <tr>\n",
       "      <th>3</th>\n",
       "      <td>2013</td>\n",
       "      <td>7</td>\n",
       "      <td>M</td>\n",
       "      <td>03</td>\n",
       "      <td>99</td>\n",
       "      <td>41</td>\n",
       "      <td>100</td>\n",
       "    </tr>\n",
       "    <tr>\n",
       "      <th>4</th>\n",
       "      <td>2013</td>\n",
       "      <td>7</td>\n",
       "      <td>F</td>\n",
       "      <td>01</td>\n",
       "      <td>12</td>\n",
       "      <td>42</td>\n",
       "      <td>100</td>\n",
       "    </tr>\n",
       "  </tbody>\n",
       "</table>\n",
       "</div>"
      ],
      "text/plain": [
       "   Year Cause Sex Race Education Age Hispanic origin\n",
       "0  2013     7   M   01        15  44             100\n",
       "1  2013     7   F   01        12  42             100\n",
       "2  2013     7   M   01        17  40             100\n",
       "3  2013     7   M   03        99  41             100\n",
       "4  2013     7   F   01        12  42             100"
      ]
     },
     "metadata": {},
     "output_type": "display_data"
    }
   ],
   "source": [
    "## Size of Data and Missing Values by Column\n",
    "#print('Revision 2003')\n",
    "#display(cdf_2003.shape)\n",
    "#display(cdf_2003.isnull().sum())\n",
    "#display(cdf_2003.head(n=5))\n",
    "\n",
    "#print('Revision 1989')\n",
    "#display(cdf_1989.shape)\n",
    "#display(cdf_1989.isnull().sum())\n",
    "#display(cdf_1989.head(n=5))"
   ]
  },
  {
   "cell_type": "markdown",
   "metadata": {},
   "source": [
    "Comparing the size of data using 2003 Education Revision and size of data using 1989 Education Revision,  we discovered that the later was less than 5% of the total. Therefore we decided it was safe to not include the entries using 1989 Education Revision."
   ]
  },
  {
   "cell_type": "code",
   "execution_count": 9,
   "metadata": {},
   "outputs": [
    {
     "name": "stdout",
     "output_type": "stream",
     "text": [
      "Ratio by Educational Revision\n"
     ]
    },
    {
     "data": {
      "text/plain": [
       "0.04702368754538305"
      ]
     },
     "metadata": {},
     "output_type": "display_data"
    }
   ],
   "source": [
    "#print('Ratio by Educational Revision')\n",
    "#display(cdf_1989.shape[0]/(cdf_1989.shape[0] + cdf_2003.shape[0]))"
   ]
  },
  {
   "cell_type": "code",
   "execution_count": 10,
   "metadata": {},
   "outputs": [],
   "source": [
    "## Dictionary mapping CODE and MEANING\n",
    "\n",
    "# Manner of Death\n",
    "cause_dict = {  '1': 'Accident',\n",
    "                '2': 'Suicide',\n",
    "                '3': 'Homicide',\n",
    "                '4': 'Pending Investigation',\n",
    "                '5': 'Could not determine',\n",
    "                '6': 'Self-Inflicted',\n",
    "                '7': 'Natural' }\n",
    "\n",
    "\n",
    "# Education (2003 revision)\n",
    "edu_dict = { '1': '8th grade or less',\n",
    "             '2': '9-12th grade, no diploma',\n",
    "             '3': 'high school graduate or GED completed',\n",
    "             '4': 'some college credit, but no degree',\n",
    "             '5': 'Associate degree',\n",
    "             '6': \"Bachelor's degree\",\n",
    "             '7': \"Master's degree\",\n",
    "             '8': 'Doctorate or Professional degree',\n",
    "             '9': 'Unknown' }\n",
    "\n",
    "\n",
    "# Age Recode 52\n",
    "age_dict = { '26':'Less than 5 years',\n",
    "             '27':'5 - 9 years',\n",
    "             '28':'10 - 14 years',\n",
    "             '29':'15 - 19 years',\n",
    "             '30':'20 - 24 years',\n",
    "             '31':'25 - 29 years',\n",
    "             '32':'30 - 34 years',\n",
    "             '33':'35 - 39 years',\n",
    "             '34':'40 - 44 years',\n",
    "             '35':'45 - 49 years',\n",
    "             '36':'50 - 54 years',\n",
    "             '37':'55 - 59 years',\n",
    "             '38':'60 - 64 years',\n",
    "             '39':'65 - 69 years',\n",
    "             '40':'70 - 74 years',\n",
    "             '41':'75 - 79 years',\n",
    "             '42':'80 - 84 years',\n",
    "             '43':'85 - 89 years',\n",
    "             '44':'90 years and over',\n",
    "             '52':'Age not stated'}\n",
    "\n",
    "\n",
    "# Race\n",
    "race_dict = { '01':'White',\n",
    "              '02':'Black',\n",
    "              '03':'American Indian (Includes Aleuts and Eskimos)',\n",
    "              '04':'Chinese',\n",
    "              '05':'Japanese',\n",
    "              '06':'Hawaiian (includes Part-Hawaiian)',\n",
    "              '07':'Filipino',\n",
    "              '08':'Other Asian or Pacific Islander',\n",
    "              '18':'Asian Indian',\n",
    "              '28':'Korean',\n",
    "              '38':'Samoan',\n",
    "              '48':'Vietnamese',\n",
    "              '58':'Guamanian',\n",
    "              '68':'Other Asian or Pacific Islander',\n",
    "              '78':'Combined other Asian or Pacific Islander',\n",
    "              '00':'Other races' }\n"
   ]
  },
  {
   "cell_type": "code",
   "execution_count": 11,
   "metadata": {},
   "outputs": [
    {
     "data": {
      "text/html": [
       "<div>\n",
       "<style scoped>\n",
       "    .dataframe tbody tr th:only-of-type {\n",
       "        vertical-align: middle;\n",
       "    }\n",
       "\n",
       "    .dataframe tbody tr th {\n",
       "        vertical-align: top;\n",
       "    }\n",
       "\n",
       "    .dataframe thead th {\n",
       "        text-align: right;\n",
       "    }\n",
       "</style>\n",
       "<table border=\"1\" class=\"dataframe\">\n",
       "  <thead>\n",
       "    <tr style=\"text-align: right;\">\n",
       "      <th></th>\n",
       "      <th>Year</th>\n",
       "      <th>Cause</th>\n",
       "      <th>Sex</th>\n",
       "      <th>Race</th>\n",
       "      <th>Education</th>\n",
       "      <th>Age</th>\n",
       "      <th>Hispanic origin</th>\n",
       "    </tr>\n",
       "  </thead>\n",
       "  <tbody>\n",
       "    <tr>\n",
       "      <th>53204</th>\n",
       "      <td>2013</td>\n",
       "      <td>Natural</td>\n",
       "      <td>F</td>\n",
       "      <td>White</td>\n",
       "      <td>9-12th grade, no diploma</td>\n",
       "      <td>75 - 79 years</td>\n",
       "      <td>100</td>\n",
       "    </tr>\n",
       "    <tr>\n",
       "      <th>53205</th>\n",
       "      <td>2013</td>\n",
       "      <td>Natural</td>\n",
       "      <td>F</td>\n",
       "      <td>Black</td>\n",
       "      <td>9-12th grade, no diploma</td>\n",
       "      <td>85 - 89 years</td>\n",
       "      <td>100</td>\n",
       "    </tr>\n",
       "    <tr>\n",
       "      <th>53206</th>\n",
       "      <td>2013</td>\n",
       "      <td>Natural</td>\n",
       "      <td>M</td>\n",
       "      <td>White</td>\n",
       "      <td>some college credit, but no degree</td>\n",
       "      <td>90 years and over</td>\n",
       "      <td>100</td>\n",
       "    </tr>\n",
       "    <tr>\n",
       "      <th>53207</th>\n",
       "      <td>2013</td>\n",
       "      <td>Natural</td>\n",
       "      <td>F</td>\n",
       "      <td>White</td>\n",
       "      <td>8th grade or less</td>\n",
       "      <td>85 - 89 years</td>\n",
       "      <td>100</td>\n",
       "    </tr>\n",
       "    <tr>\n",
       "      <th>53208</th>\n",
       "      <td>2013</td>\n",
       "      <td>Natural</td>\n",
       "      <td>F</td>\n",
       "      <td>White</td>\n",
       "      <td>8th grade or less</td>\n",
       "      <td>90 years and over</td>\n",
       "      <td>100</td>\n",
       "    </tr>\n",
       "  </tbody>\n",
       "</table>\n",
       "</div>"
      ],
      "text/plain": [
       "       Year    Cause Sex   Race                           Education  \\\n",
       "53204  2013  Natural   F  White            9-12th grade, no diploma   \n",
       "53205  2013  Natural   F  Black            9-12th grade, no diploma   \n",
       "53206  2013  Natural   M  White  some college credit, but no degree   \n",
       "53207  2013  Natural   F  White                   8th grade or less   \n",
       "53208  2013  Natural   F  White                   8th grade or less   \n",
       "\n",
       "                     Age Hispanic origin  \n",
       "53204      75 - 79 years             100  \n",
       "53205      85 - 89 years             100  \n",
       "53206  90 years and over             100  \n",
       "53207      85 - 89 years             100  \n",
       "53208  90 years and over             100  "
      ]
     },
     "metadata": {},
     "output_type": "display_data"
    }
   ],
   "source": [
    "## Mapped Code to actual meanings\n",
    "#cdf_2003['Cause'] = cdf_2003['Cause'].map(cause_dict)\n",
    "#cdf_2003['Education'] = cdf_2003['Education'].map(edu_dict)\n",
    "#cdf_2003['Age'] = cdf_2003['Age'].map(age_dict)\n",
    "#cdf_2003['Race'] = cdf_2003['Race'].map(race_dict)\n",
    "\n",
    "#display(cdf_2003.head(n=5))"
   ]
  },
  {
   "cell_type": "code",
   "execution_count": 12,
   "metadata": {},
   "outputs": [],
   "source": [
    "## Write processed data to file\n",
    "#cdf_2003.to_csv('MORT_13_17.csv', index=False)\n",
    "\n",
    "## Delete DataFrame\n",
    "#del cdf_2003\n",
    "#del cdf_1989"
   ]
  },
  {
   "cell_type": "markdown",
   "metadata": {},
   "source": [
    "# Data Visualization"
   ]
  },
  {
   "cell_type": "code",
   "execution_count": 13,
   "metadata": {},
   "outputs": [
    {
     "data": {
      "text/html": [
       "<div>\n",
       "<style scoped>\n",
       "    .dataframe tbody tr th:only-of-type {\n",
       "        vertical-align: middle;\n",
       "    }\n",
       "\n",
       "    .dataframe tbody tr th {\n",
       "        vertical-align: top;\n",
       "    }\n",
       "\n",
       "    .dataframe thead th {\n",
       "        text-align: right;\n",
       "    }\n",
       "</style>\n",
       "<table border=\"1\" class=\"dataframe\">\n",
       "  <thead>\n",
       "    <tr style=\"text-align: right;\">\n",
       "      <th></th>\n",
       "      <th>Year</th>\n",
       "      <th>Cause</th>\n",
       "      <th>Sex</th>\n",
       "      <th>Race</th>\n",
       "      <th>Education</th>\n",
       "      <th>Age</th>\n",
       "      <th>Hispanic origin</th>\n",
       "    </tr>\n",
       "  </thead>\n",
       "  <tbody>\n",
       "    <tr>\n",
       "      <th>0</th>\n",
       "      <td>2013</td>\n",
       "      <td>Natural</td>\n",
       "      <td>F</td>\n",
       "      <td>White</td>\n",
       "      <td>9-12th grade, no diploma</td>\n",
       "      <td>75 - 79 years</td>\n",
       "      <td>100</td>\n",
       "    </tr>\n",
       "    <tr>\n",
       "      <th>1</th>\n",
       "      <td>2013</td>\n",
       "      <td>Natural</td>\n",
       "      <td>F</td>\n",
       "      <td>Black</td>\n",
       "      <td>9-12th grade, no diploma</td>\n",
       "      <td>85 - 89 years</td>\n",
       "      <td>100</td>\n",
       "    </tr>\n",
       "    <tr>\n",
       "      <th>2</th>\n",
       "      <td>2013</td>\n",
       "      <td>Natural</td>\n",
       "      <td>M</td>\n",
       "      <td>White</td>\n",
       "      <td>some college credit, but no degree</td>\n",
       "      <td>90 years and over</td>\n",
       "      <td>100</td>\n",
       "    </tr>\n",
       "    <tr>\n",
       "      <th>3</th>\n",
       "      <td>2013</td>\n",
       "      <td>Natural</td>\n",
       "      <td>F</td>\n",
       "      <td>White</td>\n",
       "      <td>8th grade or less</td>\n",
       "      <td>85 - 89 years</td>\n",
       "      <td>100</td>\n",
       "    </tr>\n",
       "    <tr>\n",
       "      <th>4</th>\n",
       "      <td>2013</td>\n",
       "      <td>Natural</td>\n",
       "      <td>F</td>\n",
       "      <td>White</td>\n",
       "      <td>8th grade or less</td>\n",
       "      <td>90 years and over</td>\n",
       "      <td>100</td>\n",
       "    </tr>\n",
       "  </tbody>\n",
       "</table>\n",
       "</div>"
      ],
      "text/plain": [
       "   Year    Cause Sex   Race                           Education  \\\n",
       "0  2013  Natural   F  White            9-12th grade, no diploma   \n",
       "1  2013  Natural   F  Black            9-12th grade, no diploma   \n",
       "2  2013  Natural   M  White  some college credit, but no degree   \n",
       "3  2013  Natural   F  White                   8th grade or less   \n",
       "4  2013  Natural   F  White                   8th grade or less   \n",
       "\n",
       "                 Age Hispanic origin  \n",
       "0      75 - 79 years             100  \n",
       "1      85 - 89 years             100  \n",
       "2  90 years and over             100  \n",
       "3      85 - 89 years             100  \n",
       "4  90 years and over             100  "
      ]
     },
     "execution_count": 13,
     "metadata": {},
     "output_type": "execute_result"
    }
   ],
   "source": [
    "# Read CSV\n",
    "cdf = pd.read_csv('MORT_13_17.csv', dtype=object)\n",
    "cdf.head()"
   ]
  },
  {
   "cell_type": "code",
   "execution_count": 14,
   "metadata": {
    "scrolled": false
   },
   "outputs": [
    {
     "data": {
      "image/png": "[encoded data removed]",
      "text/plain": [
       "<Figure size 432x288 with 2 Axes>"
      ]
     },
     "metadata": {
      "needs_background": "light"
     },
     "output_type": "display_data"
    }
   ],
   "source": [
    "#suicide deaths vs natural deaths by gender\n",
    "#get value_counts of both Natural and Suicide deaths\n",
    "NG = cdf[cdf['Cause'] == 'Natural']['Sex'].value_counts()\n",
    "SG = cdf[cdf['Cause'] == 'Suicide']['Sex'].value_counts()\n",
    "#debugging\n",
    "\"\"\"\n",
    "print('Natural Deaths by Gender:')\n",
    "print(NG)\n",
    "print()\n",
    "print('Suicide Deaths by Gender:')\n",
    "print(SG)\n",
    "\"\"\"\n",
    "#convert value counts to list\n",
    "NGL = NG.tolist()\n",
    "SGL = SG.tolist()\n",
    "#combine value counts into new dataframe\n",
    "CombinedGenderData = pd.DataFrame({'Natural': [NGL[1], NGL[0]],'Suicide': [SGL[0], SGL[1]]},index=['M','F'])\n",
    "#calibrate natural and suicide deaths each based on their own y-axis\n",
    "CombinedGenderData.plot(kind='bar',secondary_y= 'Suicide')\n",
    "plt.show()"
   ]
  },
  {
   "cell_type": "code",
   "execution_count": 15,
   "metadata": {},
   "outputs": [
    {
     "data": {
      "image/png": "[encoded data removed]",
      "text/plain": [
       "<Figure size 432x288 with 2 Axes>"
      ]
     },
     "metadata": {
      "needs_background": "light"
     },
     "output_type": "display_data"
    }
   ],
   "source": [
    "#suicide deaths vs natural deaths by education\n",
    "#get value_counts of both Natural and Suicide deaths by education\n",
    "NE = cdf[cdf['Cause'] == 'Natural']['Education'].value_counts().reindex(list(edu_dict.values()))\n",
    "SE = cdf[cdf['Cause'] == 'Suicide']['Education'].value_counts().reindex(list(edu_dict.values()))\n",
    "#debugging\n",
    "\"\"\"\n",
    "print('Natural Deaths by Education:')\n",
    "print(NE)\n",
    "print()\n",
    "print('Suicide Deaths by Education:')\n",
    "print(SE)\n",
    "\"\"\"\n",
    "#convert value counts to list\n",
    "NEL = NE.tolist()\n",
    "SEL = SE.tolist()\n",
    "#combine value counts into new dataframe\n",
    "CombinedEducationData = pd.DataFrame({'Natural': NEL,'Suicide': SEL},index=list(edu_dict.values()))\n",
    "#calibrate natural and suicide deaths each based on their own y-axis\n",
    "CombinedEducationData.plot(kind='bar',secondary_y= 'Suicide')\n",
    "plt.show()"
   ]
  },
  {
   "cell_type": "code",
   "execution_count": 16,
   "metadata": {},
   "outputs": [
    {
     "data": {
      "image/png": "[encoded data removed]",
      "text/plain": [
       "<Figure size 432x288 with 2 Axes>"
      ]
     },
     "metadata": {
      "needs_background": "light"
     },
     "output_type": "display_data"
    }
   ],
   "source": [
    "#suicide deaths vs natural deaths by age\n",
    "#cdf[cdf['Cause'] == 'Natural']['Age'].value_counts().reindex(list(age_dict.values())).plot.bar()\n",
    "#get value_counts of both Natural and Suicide deaths by age\n",
    "NA = cdf[cdf['Cause'] == 'Natural']['Age'].value_counts().reindex(list(age_dict.values()))\n",
    "SA = cdf[cdf['Cause'] == 'Suicide']['Age'].value_counts().reindex(list(age_dict.values()))\n",
    "#debugging\n",
    "\"\"\"\n",
    "print('Natural Deaths by Age:')\n",
    "print(NA)\n",
    "print()\n",
    "print('Suicide Deaths by Age:')\n",
    "print(SA)\n",
    "\"\"\"\n",
    "#convert value counts to list\n",
    "NAL = NA.tolist()\n",
    "SAL = SA.tolist()\n",
    "#combine value counts into new dataframe\n",
    "CombinedAgeData = pd.DataFrame({'Natural': NAL,'Suicide': SAL},index=list(age_dict.values()))\n",
    "#calibrate natural and suicide deaths each based on their own y-axis\n",
    "CombinedAgeData.plot(kind='bar',secondary_y= 'Suicide')\n",
    "plt.show()"
   ]
  },
  {
   "cell_type": "code",
   "execution_count": 17,
   "metadata": {},
   "outputs": [
    {
     "data": {
      "image/png": "[encoded data removed]",
      "text/plain": [
       "<Figure size 432x288 with 2 Axes>"
      ]
     },
     "metadata": {
      "needs_background": "light"
     },
     "output_type": "display_data"
    },
    {
     "data": {
      "image/png": "[encoded data removed]",
      "text/plain": [
       "<Figure size 432x288 with 2 Axes>"
      ]
     },
     "metadata": {
      "needs_background": "light"
     },
     "output_type": "display_data"
    }
   ],
   "source": [
    "#suicide deaths vs natural deaths by race\n",
    "#cdf[cdf['Cause'] == 'Natural']['Race'].value_counts().reindex(list(race_dict.values())).plot.bar()\n",
    "#get value_counts of both Natural and Suicide deaths by age\n",
    "NR = cdf[cdf['Cause'] == 'Natural']['Race'].value_counts().reindex(list(race_dict.values()))\n",
    "SR = cdf[cdf['Cause'] == 'Suicide']['Race'].value_counts().reindex(list(race_dict.values()))\n",
    "#debugging\n",
    "\"\"\"\n",
    "print('Natural Deaths by Race:')\n",
    "print(N)\n",
    "print()\n",
    "print('Suicide Deaths by Race:')\n",
    "print(S)\n",
    "\"\"\"\n",
    "#convert value counts to list\n",
    "NRL = NR.tolist()\n",
    "SRL = SR.tolist()\n",
    "#create lists for other races other than black or white\n",
    "NOther = NRL[2:]\n",
    "SOther = SRL[2:]\n",
    "otherIndex = list(race_dict.values())[2:]\n",
    "#combine value counts into new dataframe\n",
    "CombinedRaceWBData = pd.DataFrame({'Natural': [NRL[0],NRL[1]],'Suicide': [SRL[0],SRL[1]]},index=['White','Black'])\n",
    "CombinedRaceOtherData = pd.DataFrame({'Natural': NOther,'Suicide': SOther},index=otherIndex)\n",
    "#calibrate natural and suicide deaths each based on their own y-axis\n",
    "CombinedRaceWBData.plot(kind='bar',secondary_y= 'Suicide')\n",
    "CombinedRaceOtherData.plot(kind='bar',secondary_y= 'Suicide')\n",
    "plt.show()"
   ]
  },
  {
   "cell_type": "code",
   "execution_count": 18,
   "metadata": {},
   "outputs": [
    {
     "data": {
      "text/plain": [
       "'\\nIMPORTANT NOTE:\\nSince we now have data from 2013-17 thanks to Kyo, we can also\\ndo some sort of visualization in trendline, etc.\\nStuff that incorporates spanning over different years\\n'"
      ]
     },
     "execution_count": 18,
     "metadata": {},
     "output_type": "execute_result"
    }
   ],
   "source": [
    "\"\"\"\n",
    "IMPORTANT NOTE:\n",
    "Since we now have data from 2013-17 thanks to Kyo, we can also\n",
    "do some sort of visualization in trendline, etc.\n",
    "Stuff that incorporates spanning over different years\n",
    "\"\"\""
   ]
  },
  {
   "cell_type": "code",
   "execution_count": null,
   "metadata": {},
   "outputs": [],
   "source": []
  },
  {
   "cell_type": "markdown",
   "metadata": {},
   "source": [
    "# Data Analysis & Results"
   ]
  },
  {
   "cell_type": "markdown",
   "metadata": {},
   "source": [
    "Include cells that describe the steps in your data analysis.\n",
    "\n",
    "<strong>\n",
    "EDA\n",
    "   \n",
    "   - What distributions do your variables take?\n",
    "   - Are there any outliers?\n",
    "   - Relationship between variables?\n",
    "   \n",
    "   \n",
    "Analysis\n",
    "\n",
    "   - What approaches did you use? Why?\n",
    "   - What were the results?\n",
    "   - What were your interpretation of these findings?\n",
    "    \n",
    "There must be AT LEAST THREE appropriate data visualizations throughout these sections. Each visualization must include an interpretation of what is displayed AND what should be learned from that visualization. Be sure that the appropriate type of visualization is generated given the data that you have, axes are all labeled, and the visualizations clearly communicate the point you're trying to make.\n",
    "</strong>"
   ]
  },
  {
   "cell_type": "code",
   "execution_count": 19,
   "metadata": {},
   "outputs": [],
   "source": [
    "## YOUR CODE HERE\n",
    "## FEEL FREE TO ADD MULTIPLE CELLS PER SECTION"
   ]
  },
  {
   "cell_type": "code",
   "execution_count": 20,
   "metadata": {},
   "outputs": [
    {
     "name": "stdout",
     "output_type": "stream",
     "text": [
      "The ratio of Male to Female for Natural deaths is: Male 49.3556897224 to Female 50.6443102776\n",
      "The ratio of Male to Female for Suicidal deaths is: Male 77.4304577591 to Female 22.5695422409\n"
     ]
    }
   ],
   "source": [
    "#Ratio for natural deaths : Gender\n",
    "nMale = NG[1]/(NG[1]+NG[0])\n",
    "nFemale = NG[0]/(NG[1]+NG[0])\n",
    "print('The ratio of Male to Female for Natural deaths is: Male ' + str(nMale*100)\n",
    "     + ' to Female ' + str(nFemale*100))\n",
    "#Ratio for suicidal deaths : Gender\n",
    "sMale = SG[0]/(SG[1]+SG[0])\n",
    "sFemale = SG[1]/(SG[1]+SG[0])\n",
    "print('The ratio of Male to Female for Suicidal deaths is: Male ' + str(sMale*100)\n",
    "     + ' to Female ' + str(sFemale*100))"
   ]
  },
  {
   "cell_type": "code",
   "execution_count": 21,
   "metadata": {},
   "outputs": [
    {
     "name": "stdout",
     "output_type": "stream",
     "text": [
      "The mean of ages for natural deaths is : 70 - 74 years\n",
      "\n",
      "The mean of ages for suicidal deaths is : 40 - 44 years\n"
     ]
    }
   ],
   "source": [
    "#Mean of Age for Natural Deaths\n",
    "\n",
    "#create natural death age dictionary from age range values and descriptions\n",
    "nAgeDict = dict(zip(list(age_dict.values()), NA))\n",
    "\n",
    "#get the mean value in the dictionary\n",
    "nMeanPos = 0\n",
    "for i in NA:\n",
    "    nMeanPos = nMeanPos + i\n",
    "nMeanPos = nMeanPos/2\n",
    "\n",
    "#get the key(description) for the mean age range\n",
    "nSum = 0\n",
    "nMeanAge = \"\"\n",
    "for key,value in nAgeDict.items():\n",
    "    nSum = nSum + value\n",
    "    if nSum > nMeanPos:\n",
    "        break\n",
    "    nMeanAge = key\n",
    "print('The mean of ages for natural deaths is : ' + nMeanAge)\n",
    "print()\n",
    "#Mean of Age for Suicidal Deaths\n",
    "\n",
    "#create suicidal death age dictionary from age range values and descriptions\n",
    "sAgeDict = dict(zip(list(age_dict.values()), SA))\n",
    "\n",
    "#delete first entry because first value is NaN\n",
    "del sAgeDict['Less than 5 years']\n",
    "\n",
    "#get the mean value in the dictionary\n",
    "sMeanPos = 0\n",
    "for key,value in sAgeDict.items():\n",
    "    sMeanPos = sMeanPos + value\n",
    "sMeanPos = sMeanPos/2\n",
    "\n",
    "#get the key(description) for the mean age range\n",
    "sSum = 0\n",
    "sMeanAge = \"\"\n",
    "for key,value in sAgeDict.items():\n",
    "    sSum = sSum + value\n",
    "    if sSum > sMeanPos:\n",
    "        break\n",
    "    sMeanAge = key\n",
    "print('The mean of ages for suicidal deaths is : ' + sMeanAge)"
   ]
  },
  {
   "cell_type": "code",
   "execution_count": 22,
   "metadata": {},
   "outputs": [
    {
     "name": "stdout",
     "output_type": "stream",
     "text": [
      "The mean of education for natural deaths is : 9-12th grade, no diploma\n",
      "\n",
      "The mean of education for suicidal deaths is : 9-12th grade, no diploma\n"
     ]
    },
    {
     "data": {
      "text/plain": [
       "'IMPORTANT NOTE: in analyzation we can use this to say that even though this \\nseems to show that there is no difference, this is probably because the majority\\nof people are high school graduates. Therefore we need another analyzation method,\\nwhich we will do later (I was thinking of calculating the mean of differences in ratio\\nfor natural deaths vs suicidal deaths for people who have education above 8th grade.\\nThen we calculate the distribution/etc. similar to HW4 and see if the difference is \\nsignificant or not. In addition we can then do something similar to the analyzation \\nin homework A4, where we split by gender <aka is the difference in suicidal education \\ndata due to gender>\\n\\nI think this is probably the best we can do given the time we have. Also, note that\\nthese are some of the questions in the final project assignment, which we should\\nprobably do also:\\n\\nWhat distributions?\\nOutliers?\\nRelationship between variables?  (This kind of overlaps with what I described above\\nso yeah... we can be flexible on how to answer these questions)\\n)'"
      ]
     },
     "execution_count": 22,
     "metadata": {},
     "output_type": "execute_result"
    }
   ],
   "source": [
    "#Mean of Education for Natural Deaths\n",
    "\n",
    "#create natural death education dictionary from education values and descriptions\n",
    "nEduDict = dict(zip(list(edu_dict.values()), NE))\n",
    "\n",
    "#get the mean value in the dictionary\n",
    "nMeanPos = 0\n",
    "for i in NA:\n",
    "    nMeanPos = nMeanPos + i\n",
    "nMeanPos = nMeanPos/2\n",
    "\n",
    "#get the key(description) for the mean age range\n",
    "nSum = 0\n",
    "nMeanEdu = \"\"\n",
    "for key,value in nEduDict.items():\n",
    "    nSum = nSum + value\n",
    "    if nSum > nMeanPos:\n",
    "        break\n",
    "    nMeanEdu = key\n",
    "print('The mean of education for natural deaths is : ' + nMeanEdu)\n",
    "print()\n",
    "#Mean of Education for Suicidal Deaths\n",
    "\n",
    "#create suicidal death education dictionary from education values and descriptions\n",
    "sEduDict = dict(zip(list(edu_dict.values()), SE))\n",
    "\n",
    "#get the mean value in the dictionary\n",
    "sMeanPos = 0\n",
    "for key,value in sEduDict.items():\n",
    "    sMeanPos = sMeanPos + value\n",
    "sMeanPos = sMeanPos/2\n",
    "\n",
    "#get the key(description) for the mean age range\n",
    "sSum = 0\n",
    "sMeanEdu = \"\"\n",
    "for key,value in sEduDict.items():\n",
    "    sSum = sSum + value\n",
    "    if sSum > sMeanPos:\n",
    "        break\n",
    "    sMeanEdu = key\n",
    "print('The mean of education for suicidal deaths is : ' + sMeanEdu)\n",
    "\n",
    "\n",
    "\"\"\"IMPORTANT NOTE: in analyzation we can use this to say that even though this \n",
    "seems to show that there is no difference, this is probably because the majority\n",
    "of people are high school graduates. Therefore we need another analyzation method,\n",
    "which we will do later (I was thinking of calculating the mean of differences in ratio\n",
    "for natural deaths vs suicidal deaths for people who have education above 8th grade.\n",
    "Then we calculate the distribution/etc. similar to HW4 and see if the difference is \n",
    "significant or not. In addition we can then do something similar to the analyzation \n",
    "in homework A4, where we split by gender <aka is the difference in suicidal education \n",
    "data due to gender>\n",
    "\n",
    "I think this is probably the best we can do given the time we have. Also, note that\n",
    "these are some of the questions in the final project assignment, which we should\n",
    "probably do also:\n",
    "\n",
    "What distributions?\n",
    "Outliers?\n",
    "Relationship between variables?  (This kind of overlaps with what I described above\n",
    "so yeah... we can be flexible on how to answer these questions)\n",
    ")\"\"\""
   ]
  },
  {
   "cell_type": "code",
   "execution_count": null,
   "metadata": {},
   "outputs": [],
   "source": []
  },
  {
   "cell_type": "markdown",
   "metadata": {},
   "source": [
    "# Ethics & Privacy"
   ]
  },
  {
   "cell_type": "markdown",
   "metadata": {},
   "source": [
    "*Fill in your ethics & privacy discussion here*\n",
    "<BR>\n",
    "<BR>\n",
    "<strong>\n",
    "Briefly acknowledge and address any potential issues of ethics and privacy for the proposed project. In particular:\n",
    "    \n",
    "- Did you have permission to use this data, for this purpose?  \n",
    "- Are there privacy concerns regarding your datasets that you need to deal with, and/or terms of use that you need to comply with?\n",
    "- Are there potential biases in your dataset(s), in terms of who is composes, and how it was collected, that may be problematic in terms of it allowing for equitable analysis? (For example, does your data exclude particular populations, or is it likely to reflect particular human biases in a way that could be a problem?)\n",
    "- Are there any other issues related to your topic area, data, and/or analyses that are potentially prolematic in terms of data privacy and equitable impact?  \n",
    "- How did you handle issues you identified?\n",
    "(1 - 2 Paragraphs)\n",
    "</strong>\n",
    "\n"
   ]
  },
  {
   "cell_type": "markdown",
   "metadata": {},
   "source": [
    "# Conclusion & Discussion"
   ]
  },
  {
   "cell_type": "markdown",
   "metadata": {},
   "source": [
    "*Fill in your discussion information here*\n",
    "\n",
    "<strong>\n",
    "Discuss your project. Summarize your data and question. Briefly describe your analysis. Summarize your results and conclusions. Be sure to mention any limitation of your project. Discuss the impact of this work on society.\n",
    "\n",
    "(2-3 paragraph)\n",
    "</strong>"
   ]
  },
  {
   "cell_type": "code",
   "execution_count": null,
   "metadata": {},
   "outputs": [],
   "source": []
  }
 ],
 "metadata": {
  "kernelspec": {
   "display_name": "Python 3",
   "language": "python",
   "name": "python3"
  },
  "language_info": {
   "codemirror_mode": {
    "name": "ipython",
    "version": 3
   },
   "file_extension": ".py",
   "mimetype": "text/x-python",
   "name": "python",
   "nbconvert_exporter": "python",
   "pygments_lexer": "ipython3",
   "version": "3.6.7"
  }
 },
 "nbformat": 4,
 "nbformat_minor": 2
}
